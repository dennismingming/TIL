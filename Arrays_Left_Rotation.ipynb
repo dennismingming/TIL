{
 "cells": [
  {
   "cell_type": "code",
   "execution_count": 62,
   "metadata": {},
   "outputs": [],
   "source": [
    "import math\n",
    "import os\n",
    "import random\n",
    "import re\n",
    "import sys\n",
    "\n",
    "# Complete the rotLeft function below.\n",
    "def rotLeft(a, d):\n",
    "    n = len(a)\n",
    "    result = 0\n",
    "    for i in range(d):\n",
    "        a.append(a[0])\n",
    "        del a[0]\n",
    "        \n",
    "    return a\n"
   ]
  },
  {
   "cell_type": "code",
   "execution_count": 63,
   "metadata": {},
   "outputs": [
    {
     "data": {
      "text/plain": [
       "[5, 1, 2, 3, 4]"
      ]
     },
     "execution_count": 63,
     "metadata": {},
     "output_type": "execute_result"
    }
   ],
   "source": [
    "d =  54\n",
    "a = [1,2,3,4,5]\n",
    "rotLeft(a, d)"
   ]
  },
  {
   "cell_type": "markdown",
   "metadata": {},
   "source": [
    "A left rotation operation on an array shifts each of the array's elements 1 unit to the left. For example, if 2 left rotations are performed on array [1,2,3,4,5], then the array would become [3,4,5,1,2].\n",
    "\n",
    "Given an array a of n integers and a number, d, perform d left rotations on the array. Return the updated array to be printed as a single line of space-separated integers.\n",
    "\n",
    "Function Description\n",
    "\n",
    "Complete the function rotLeft in the editor below. It should return the resulting array of integers.\n",
    "\n",
    "rotLeft has the following parameter(s):\n",
    "\n",
    "An array of integers a.\n",
    "An integer d, the number of rotations.\n",
    "Input Format\n",
    "\n",
    "The first line contains two space-separated integers n and d, the size of a and the number of left rotations you must perform.\n",
    "The second line contains n space-separated integers a[i].\n",
    "\n",
    "Constraints\n",
    "$1<= n <= 10^5$\n",
    "$1<=d<=n$\n",
    "$1<=a[i]<=10^6$\n",
    "\n",
    "Output Format\n",
    "\n",
    "Print a single line of n space-separated integers denoting the final state of the array after performing d left rotations.\n",
    "\n",
    "Sample Input\n",
    "\n",
    "5 4\n",
    "1 2 3 4 5\n",
    "Sample Output\n",
    "\n",
    "5 1 2 3 4\n",
    "Explanation\n",
    "\n",
    "When we perform d=4 left rotations, the array undergoes the following sequence of changes:\n",
    "[1,2,3,4,5]->[2,3,4,5,1]->[3,4,5,1,2]->[4,5,1,2,3]->[5,1,2,3,4]\n"
   ]
  },
  {
   "cell_type": "code",
   "execution_count": null,
   "metadata": {},
   "outputs": [],
   "source": []
  },
  {
   "cell_type": "code",
   "execution_count": null,
   "metadata": {},
   "outputs": [],
   "source": []
  }
 ],
 "metadata": {
  "kernelspec": {
   "display_name": "Python 3",
   "language": "python",
   "name": "python3"
  },
  "language_info": {
   "codemirror_mode": {
    "name": "ipython",
    "version": 3
   },
   "file_extension": ".py",
   "mimetype": "text/x-python",
   "name": "python",
   "nbconvert_exporter": "python",
   "pygments_lexer": "ipython3",
   "version": "3.7.3"
  }
 },
 "nbformat": 4,
 "nbformat_minor": 2
}
