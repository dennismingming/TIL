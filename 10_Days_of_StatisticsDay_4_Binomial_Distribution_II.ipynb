{
  "nbformat": 4,
  "nbformat_minor": 0,
  "metadata": {
    "colab": {
      "provenance": [],
      "authorship_tag": "ABX9TyP8rMCbD9FetuAwGDLY7lH4",
      "include_colab_link": true
    },
    "kernelspec": {
      "name": "python3",
      "display_name": "Python 3"
    },
    "language_info": {
      "name": "python"
    }
  },
  "cells": [
    {
      "cell_type": "markdown",
      "metadata": {
        "id": "view-in-github",
        "colab_type": "text"
      },
      "source": [
        "<a href=\"https://colab.research.google.com/github/dennismingming/hackerrank/blob/master/10_Days_of_StatisticsDay_4_Binomial_Distribution_II.ipynb\" target=\"_parent\"><img src=\"https://colab.research.google.com/assets/colab-badge.svg\" alt=\"Open In Colab\"/></a>"
      ]
    },
    {
      "cell_type": "code",
      "execution_count": null,
      "metadata": {
        "id": "3wOE4D2soTwk"
      },
      "outputs": [],
      "source": [
        "# Enter your code here. Read input from STDIN. Print output to STDOUT\n",
        "import math\n",
        "\n",
        "\n",
        "data = list(map(int, input().split()))\n",
        "P = data[0]*0.01\n",
        "N = data[1]\n",
        "ANS_1 = 0\n",
        "for i in range(0, 3):\n",
        "    ANS_1 += math.factorial(N)/(math.factorial(i)*math.factorial(N-i)) * P**i * (1-P)**(N-i)\n",
        "    if i == 1:\n",
        "        ANS_2 = 1 - ANS_1\n",
        "\n",
        "print(round(ANS_1,3))\n",
        "print(round(ANS_2,3))\n"
      ]
    }
  ]
}