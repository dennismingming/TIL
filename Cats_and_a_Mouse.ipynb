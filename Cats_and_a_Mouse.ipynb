{
  "nbformat": 4,
  "nbformat_minor": 0,
  "metadata": {
    "colab": {
      "provenance": [],
      "authorship_tag": "ABX9TyN5aIHrq7jfOAEQ/TFtrfpP",
      "include_colab_link": true
    },
    "kernelspec": {
      "name": "python3",
      "display_name": "Python 3"
    },
    "language_info": {
      "name": "python"
    }
  },
  "cells": [
    {
      "cell_type": "markdown",
      "metadata": {
        "id": "view-in-github",
        "colab_type": "text"
      },
      "source": [
        "<a href=\"https://colab.research.google.com/github/dennismingming/hackerrank/blob/master/Cats_and_a_Mouse.ipynb\" target=\"_parent\"><img src=\"https://colab.research.google.com/assets/colab-badge.svg\" alt=\"Open In Colab\"/></a>"
      ]
    },
    {
      "cell_type": "code",
      "execution_count": null,
      "metadata": {
        "id": "Hefa2mC9fGEJ"
      },
      "outputs": [],
      "source": [
        "# Complete the catAndMouse function below.\n",
        "def catAndMouse(x, y, z):\n",
        "    if abs(x - z) > abs(y - z):\n",
        "        return 'Cat B'\n",
        "    elif abs(x - z) < abs(y - z):\n",
        "        return 'Cat A'\n",
        "    else:\n",
        "        return 'Mouse C'"
      ]
    },
    {
      "cell_type": "code",
      "source": [
        "q = [[1,2,3],[1,3,2]]\n",
        "for i in range(len(q)):\n",
        "  result = catAndMouse(q[i][0],q[i][1],q[i][2])\n",
        "  print(result)"
      ],
      "metadata": {
        "colab": {
          "base_uri": "https://localhost:8080/"
        },
        "id": "qv0eOVeMfGq1",
        "outputId": "a33d75ad-08ec-4766-eba2-250fd2a4dcfe"
      },
      "execution_count": null,
      "outputs": [
        {
          "output_type": "stream",
          "name": "stdout",
          "text": [
            "Cat B\n",
            "Mouse C\n"
          ]
        }
      ]
    },
    {
      "cell_type": "code",
      "source": [],
      "metadata": {
        "id": "1HctK2U6fnRd"
      },
      "execution_count": null,
      "outputs": []
    }
  ]
}