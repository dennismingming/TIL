{
  "nbformat": 4,
  "nbformat_minor": 0,
  "metadata": {
    "colab": {
      "provenance": [],
      "authorship_tag": "ABX9TyPhULFj0W0z0bykngVNw/ly",
      "include_colab_link": true
    },
    "kernelspec": {
      "name": "python3",
      "display_name": "Python 3"
    },
    "language_info": {
      "name": "python"
    }
  },
  "cells": [
    {
      "cell_type": "markdown",
      "metadata": {
        "id": "view-in-github",
        "colab_type": "text"
      },
      "source": [
        "<a href=\"https://colab.research.google.com/github/dennismingming/hackerrank/blob/master/Drawing_Book.ipynb\" target=\"_parent\"><img src=\"https://colab.research.google.com/assets/colab-badge.svg\" alt=\"Open In Colab\"/></a>"
      ]
    },
    {
      "cell_type": "code",
      "execution_count": null,
      "metadata": {
        "id": "ivrIWDneN-0c"
      },
      "outputs": [],
      "source": [
        "def pageCount(n, p):\n",
        "    # 책의 앞부터 시작하여 필요한 페이지 넘김 수를 계산\n",
        "    from_front = p // 2\n",
        "\n",
        "    # 책의 뒤부터 시작하여 필요한 페이지 넘김 수를 계산\n",
        "    from_back = (n // 2) - (p // 2)\n",
        "\n",
        "    # 두 경우 중 더 작은 페이지 넘김 수를 반환\n",
        "    return min(from_front, from_back)"
      ]
    },
    {
      "cell_type": "code",
      "source": [],
      "metadata": {
        "id": "xmu4xgfPOOTF"
      },
      "execution_count": null,
      "outputs": []
    }
  ]
}