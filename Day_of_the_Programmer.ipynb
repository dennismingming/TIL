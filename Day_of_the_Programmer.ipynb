{
  "nbformat": 4,
  "nbformat_minor": 0,
  "metadata": {
    "colab": {
      "provenance": [],
      "authorship_tag": "ABX9TyNPaeUwHfPmfCaVtiUG3FcH",
      "include_colab_link": true
    },
    "kernelspec": {
      "name": "python3",
      "display_name": "Python 3"
    },
    "language_info": {
      "name": "python"
    }
  },
  "cells": [
    {
      "cell_type": "markdown",
      "metadata": {
        "id": "view-in-github",
        "colab_type": "text"
      },
      "source": [
        "<a href=\"https://colab.research.google.com/github/dennismingming/hackerrank/blob/master/Day_of_the_Programmer.ipynb\" target=\"_parent\"><img src=\"https://colab.research.google.com/assets/colab-badge.svg\" alt=\"Open In Colab\"/></a>"
      ]
    },
    {
      "cell_type": "code",
      "execution_count": null,
      "metadata": {
        "id": "F2jtPx1bf6Uv"
      },
      "outputs": [],
      "source": [
        "def dayOfProgrammer(year):\n",
        "    # Write your code here\n",
        "    leap_years = False\n",
        "    if year >= 1919:\n",
        "        #Gregorian\n",
        "        n = year\n",
        "        if ((n % 4 == 0 and n % 100 != 0) or n % 400 == 0) :\n",
        "            leap_years = True\n",
        "        else:\n",
        "            leap_years = False\n",
        "    elif year <= 1917:\n",
        "        #julian calenar\n",
        "        n = year\n",
        "        if n%4 == 0:\n",
        "            leap_years = True\n",
        "        else:\n",
        "            leap_years = False\n",
        "    else:\n",
        "\n",
        "        return \"26.09.1918\"\n",
        "\n",
        "    if leap_years == False:\n",
        "        return f\"13.09.{year}\"\n",
        "\n",
        "    else:\n",
        "        return f\"12.09.{year}\""
      ]
    },
    {
      "cell_type": "code",
      "source": [
        "year =2017\n",
        "dayOfProgrammer(year)"
      ],
      "metadata": {
        "colab": {
          "base_uri": "https://localhost:8080/",
          "height": 35
        },
        "id": "ZMkNLMBbkEsQ",
        "outputId": "85e24cff-d14d-4c2c-80ef-51594d5f30b0"
      },
      "execution_count": null,
      "outputs": [
        {
          "output_type": "execute_result",
          "data": {
            "text/plain": [
              "'13.09.2017'"
            ],
            "application/vnd.google.colaboratory.intrinsic+json": {
              "type": "string"
            }
          },
          "metadata": {},
          "execution_count": 5
        }
      ]
    },
    {
      "cell_type": "code",
      "source": [],
      "metadata": {
        "id": "2KC_2JkqkHJl"
      },
      "execution_count": null,
      "outputs": []
    }
  ]
}