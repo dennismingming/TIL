{
  "nbformat": 4,
  "nbformat_minor": 0,
  "metadata": {
    "colab": {
      "provenance": [],
      "authorship_tag": "ABX9TyO5LSmbOtS2cg9O4+Joxpk2",
      "include_colab_link": true
    },
    "kernelspec": {
      "name": "python3",
      "display_name": "Python 3"
    },
    "language_info": {
      "name": "python"
    }
  },
  "cells": [
    {
      "cell_type": "markdown",
      "metadata": {
        "id": "view-in-github",
        "colab_type": "text"
      },
      "source": [
        "<a href=\"https://colab.research.google.com/github/dennismingming/hackerrank/blob/master/Dynamic_Array.ipynb\" target=\"_parent\"><img src=\"https://colab.research.google.com/assets/colab-badge.svg\" alt=\"Open In Colab\"/></a>"
      ]
    },
    {
      "cell_type": "code",
      "execution_count": null,
      "metadata": {
        "id": "fezb-D6uXjsk"
      },
      "outputs": [],
      "source": [
        "def dynamicArray(n, queries):\n",
        "    # Write your code here\n",
        "    LastAnswer = 0\n",
        "    arr = []\n",
        "    for i in range(n):\n",
        "        arr.append([])\n",
        "\n",
        "    result = []\n",
        "\n",
        "    for i in range(len(queries)):\n",
        "        q_Type = queries[i][0]\n",
        "        x = queries[i][1]\n",
        "        y = queries[i][2]\n",
        "\n",
        "        if q_Type == 1:\n",
        "            idx = (x ^ LastAnswer) % n\n",
        "            arr[idx].append(y)\n",
        "        else:\n",
        "            idx = (x ^ LastAnswer) % n\n",
        "            LastAnswer = arr[idx][y % len(arr[idx])]\n",
        "            result.append(LastAnswer)\n",
        "\n",
        "    return result"
      ]
    },
    {
      "cell_type": "code",
      "source": [
        "n = 2\n",
        "queries = [[1, 0, 5],\n",
        "[1, 1, 7],\n",
        "[1, 0, 3],\n",
        "[2, 1, 0],\n",
        "[2, 1, 1]]"
      ],
      "metadata": {
        "id": "KNURgLubXm0S"
      },
      "execution_count": null,
      "outputs": []
    },
    {
      "cell_type": "code",
      "source": [
        "dynamicArray(n, queries)"
      ],
      "metadata": {
        "colab": {
          "base_uri": "https://localhost:8080/"
        },
        "id": "i4q6mkk0X_-2",
        "outputId": "ae4c5346-70c3-44fb-e8bc-f7580fb9128d"
      },
      "execution_count": null,
      "outputs": [
        {
          "output_type": "execute_result",
          "data": {
            "text/plain": [
              "[7, 3]"
            ]
          },
          "metadata": {},
          "execution_count": 7
        }
      ]
    },
    {
      "cell_type": "code",
      "source": [],
      "metadata": {
        "id": "aZ35oSHYYLV1"
      },
      "execution_count": null,
      "outputs": []
    }
  ]
}