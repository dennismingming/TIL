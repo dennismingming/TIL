{
  "nbformat": 4,
  "nbformat_minor": 0,
  "metadata": {
    "colab": {
      "provenance": [],
      "authorship_tag": "ABX9TyMertbxDSrdw9kVCGXEk4z/",
      "include_colab_link": true
    },
    "kernelspec": {
      "name": "python3",
      "display_name": "Python 3"
    },
    "language_info": {
      "name": "python"
    }
  },
  "cells": [
    {
      "cell_type": "markdown",
      "metadata": {
        "id": "view-in-github",
        "colab_type": "text"
      },
      "source": [
        "<a href=\"https://colab.research.google.com/github/dennismingming/hackerrank/blob/master/30_Days_of_CodeDay_12_Inheritance.ipynb\" target=\"_parent\"><img src=\"https://colab.research.google.com/assets/colab-badge.svg\" alt=\"Open In Colab\"/></a>"
      ]
    },
    {
      "cell_type": "code",
      "execution_count": null,
      "metadata": {
        "colab": {
          "base_uri": "https://localhost:8080/"
        },
        "id": "xIstz6k1okiW",
        "outputId": "45e2bb55-38e5-4327-8e8d-00b8a4984c15"
      },
      "outputs": [
        {
          "output_type": "stream",
          "name": "stdout",
          "text": [
            "Heraldo Memelli 8135627\n",
            "2\n",
            "100 80\n",
            "Name: Memelli, Heraldo\n",
            "ID: 8135627\n",
            "Grade: O\n"
          ]
        }
      ],
      "source": [
        "class Person:\n",
        "\tdef __init__(self, firstName, lastName, idNumber):\n",
        "\t\tself.firstName = firstName\n",
        "\t\tself.lastName = lastName\n",
        "\t\tself.idNumber = idNumber\n",
        "\tdef printPerson(self):\n",
        "\t\tprint(\"Name:\", self.lastName + \",\", self.firstName)\n",
        "\t\tprint(\"ID:\", self.idNumber)\n",
        "\n",
        "class Student(Person):\n",
        "    #   Class Constructor\n",
        "    #   Parameters:\n",
        "    #   firstName - A string denoting the Person's first name.\n",
        "    #   lastName - A string denoting the Person's last name.\n",
        "    #   id - An integer denoting the Person's ID number.\n",
        "    #   scores - An array of integers denoting the Person's test scores.\n",
        "\n",
        "    # Write your constructor here\n",
        "    def __init__(self,firstName, lastName, idNumber, scores):\n",
        "        self.firstName = firstName\n",
        "        self.lastName = lastName\n",
        "        self.idNumber = idNumber\n",
        "        self.scores = scores\n",
        "\n",
        "    #   Function Name: calculate\n",
        "    #   Return: A character denoting the grade.\n",
        "\n",
        "    # Write your function here\n",
        "    def calculate(self):\n",
        "        avg = sum(self.scores)/len(self.scores)\n",
        "        if 90 <= avg <= 100:\n",
        "            return 'O'\n",
        "        elif 80 <= avg < 90:\n",
        "            return 'E'\n",
        "        elif 70 <= avg < 80:\n",
        "            return 'A'\n",
        "        elif 55 <= avg < 70:\n",
        "            return 'P'\n",
        "        elif 40 <= avg < 55:\n",
        "            return 'D'\n",
        "        elif avg<40:\n",
        "            return 'T'\n",
        "\n",
        "\n",
        "    #   Function Name: calculate\n",
        "    #   Return: A character denoting the grade.\n",
        "    #\n",
        "    # Write your function here\n",
        "\n",
        "line = input().split()\n",
        "firstName = line[0]\n",
        "lastName = line[1]\n",
        "idNum = line[2]\n",
        "numScores = int(input()) # not needed for Python\n",
        "scores = list( map(int, input().split()) )\n",
        "s = Student(firstName, lastName, idNum, scores)\n",
        "s.printPerson()\n",
        "print(\"Grade:\", s.calculate())"
      ]
    },
    {
      "cell_type": "code",
      "source": [
        "Heraldo Memelli 8135627\n",
        "2\n",
        "100 80"
      ],
      "metadata": {
        "id": "SPmBU5Ltop5C"
      },
      "execution_count": null,
      "outputs": []
    }
  ]
}