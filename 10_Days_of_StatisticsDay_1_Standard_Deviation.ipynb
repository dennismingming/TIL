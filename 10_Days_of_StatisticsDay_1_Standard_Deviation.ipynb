{
  "nbformat": 4,
  "nbformat_minor": 0,
  "metadata": {
    "colab": {
      "provenance": [],
      "authorship_tag": "ABX9TyMSIfmQ7zUpHZ2/z4Br0lMU",
      "include_colab_link": true
    },
    "kernelspec": {
      "name": "python3",
      "display_name": "Python 3"
    },
    "language_info": {
      "name": "python"
    }
  },
  "cells": [
    {
      "cell_type": "markdown",
      "metadata": {
        "id": "view-in-github",
        "colab_type": "text"
      },
      "source": [
        "<a href=\"https://colab.research.google.com/github/dennismingming/hackerrank/blob/master/10_Days_of_StatisticsDay_1_Standard_Deviation.ipynb\" target=\"_parent\"><img src=\"https://colab.research.google.com/assets/colab-badge.svg\" alt=\"Open In Colab\"/></a>"
      ]
    },
    {
      "cell_type": "code",
      "execution_count": 2,
      "metadata": {
        "id": "vn1BmnpcJvoP"
      },
      "outputs": [],
      "source": [
        "from statistics import pstdev\n",
        "\n",
        "#\n",
        "# Complete the 'stdDev' function below.\n",
        "#\n",
        "# The function accepts INTEGER_ARRAY arr as parameter.\n",
        "#\n",
        "\n",
        "def stdDev(arr):\n",
        "    # Print your answers to 1 decimal place within this function\n",
        "\n",
        "    print(round(float(pstdev(arr)),1))"
      ]
    },
    {
      "cell_type": "code",
      "source": [
        "arr=[10, 40, 30, 50, 20]\n",
        "stdDev(arr)"
      ],
      "metadata": {
        "colab": {
          "base_uri": "https://localhost:8080/"
        },
        "id": "K7OjKZCHJ26u",
        "outputId": "e850bfad-f9aa-4492-ef67-6e6afb6354aa"
      },
      "execution_count": 3,
      "outputs": [
        {
          "output_type": "stream",
          "name": "stdout",
          "text": [
            "14.1\n"
          ]
        }
      ]
    },
    {
      "cell_type": "markdown",
      "source": [
        "https://www.hackerrank.com/challenges/s10-standard-deviation/problem"
      ],
      "metadata": {
        "id": "DPcHb15QJ31k"
      }
    }
  ]
}