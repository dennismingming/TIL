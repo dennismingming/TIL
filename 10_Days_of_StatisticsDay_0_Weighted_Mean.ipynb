{
  "nbformat": 4,
  "nbformat_minor": 0,
  "metadata": {
    "colab": {
      "provenance": [],
      "authorship_tag": "ABX9TyMAQcZxbXoXuBMzYmAlU4c9",
      "include_colab_link": true
    },
    "kernelspec": {
      "name": "python3",
      "display_name": "Python 3"
    },
    "language_info": {
      "name": "python"
    }
  },
  "cells": [
    {
      "cell_type": "markdown",
      "metadata": {
        "id": "view-in-github",
        "colab_type": "text"
      },
      "source": [
        "<a href=\"https://colab.research.google.com/github/dennismingming/hackerrank/blob/master/10_Days_of_StatisticsDay_0_Weighted_Mean.ipynb\" target=\"_parent\"><img src=\"https://colab.research.google.com/assets/colab-badge.svg\" alt=\"Open In Colab\"/></a>"
      ]
    },
    {
      "cell_type": "code",
      "execution_count": null,
      "metadata": {
        "id": "4vcFV8FpXd6T"
      },
      "outputs": [],
      "source": [
        "def weightedMean(X, W):\n",
        "    # Write your code here\n",
        "    m = []\n",
        "    for i in range(len(X)):\n",
        "        m.append(X[i]*W[i])\n",
        "\n",
        "    print(round(sum(m)/sum(W),1))"
      ]
    },
    {
      "cell_type": "code",
      "source": [
        "X = [10, 40, 30, 50, 20]\n",
        "W = [1, 2, 3, 4, 5]\n",
        "\n",
        "weightedMean(X, W)"
      ],
      "metadata": {
        "colab": {
          "base_uri": "https://localhost:8080/"
        },
        "id": "QhcEuTX2XfZP",
        "outputId": "27d9bf36-f4ac-4969-901c-eedd42ad67c7"
      },
      "execution_count": null,
      "outputs": [
        {
          "output_type": "stream",
          "name": "stdout",
          "text": [
            "32.0\n"
          ]
        }
      ]
    },
    {
      "cell_type": "code",
      "source": [],
      "metadata": {
        "id": "aGBvYCsdXlkb"
      },
      "execution_count": null,
      "outputs": []
    }
  ]
}