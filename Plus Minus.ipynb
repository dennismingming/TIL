{
 "cells": [
  {
   "cell_type": "code",
   "execution_count": 4,
   "metadata": {},
   "outputs": [
    {
     "name": "stdout",
     "output_type": "stream",
     "text": [
      "0.5\n",
      "0.333333\n",
      "0.166667\n"
     ]
    }
   ],
   "source": [
    "#!/bin/python3\n",
    "\n",
    "import math\n",
    "import os\n",
    "import random\n",
    "import re\n",
    "import sys\n",
    "\n",
    "# Complete the plusMinus function below.\n",
    "def plusMinus(arr):\n",
    "    sumation = 0\n",
    "    zero = arr.count(0)\n",
    "    positive = -zero\n",
    "    negative = 0\n",
    "    for i in range(len(arr)):\n",
    "        if abs(arr[i]) != arr[i]:\n",
    "            negative += 1\n",
    "        elif abs(arr[i]) == arr[i]:\n",
    "            positive += 1\n",
    "    print(round(positive/len(arr),6))\n",
    "    print(round(negative/len(arr),6))\n",
    "    print(round(zero/len(arr),6))\n",
    "    \n",
    "if __name__ == '__main__':\n",
    "    n = int(input())\n",
    "\n",
    "    arr = list(map(int, input().rstrip().split()))\n",
    "\n",
    "    plusMinus(arr)\n"
   ]
  },
  {
   "cell_type": "markdown",
   "metadata": {},
   "source": [
    "Given an array of integers, calculate the fractions of its elements that are positive, negative, and are zeros. Print the decimal value of each fraction on a new line.\n",
    "\n",
    "Note: This challenge introduces precision problems. The test cases are scaled to six decimal places, though answers with absolute error of up to  10^-4 are acceptable.\n",
    "\n",
    "For example, given the array arr=[1,1,0,-1,-1] there are 5 elements, two positive, two negative and one zero. Their ratios would be 2/5=0.400000,2/5=0.400000  and 1/5=0.200000. It should be printed as\n",
    "\n",
    "0.400000\n",
    "0.400000\n",
    "0.200000\n",
    "Function Description\n",
    "\n",
    "Complete the plusMinus function in the editor below. It should print out the ratio of positive, negative and zero items in the array, each on a separate line rounded to six decimals.\n",
    "\n",
    "plusMinus has the following parameter(s):\n",
    "\n",
    "arr: an array of integers\n",
    "Input Format\n",
    "\n",
    "The first line contains an integer, n, denoting the size of the array.\n",
    "The second line contains  space-separated integers describing an array of numbers arr(arr[0],arr[1]...,arr[n-1]).\n",
    "\n",
    "Constraints\n",
    "0<n<=100\n",
    "-100<=arr[i]<=100\n",
    "\n",
    "\n",
    "Output Format\n",
    "\n",
    "You must print the following 3 lines:\n",
    "\n",
    "A decimal representing of the fraction of positive numbers in the array compared to its size.\n",
    "A decimal representing of the fraction of negative numbers in the array compared to its size.\n",
    "A decimal representing of the fraction of zeros in the array compared to its size.\n",
    "Sample Input\n",
    "\n",
    "6\n",
    "-4 3 -9 0 4 1         \n",
    "Sample Output\n",
    "\n",
    "0.500000\n",
    "0.333333\n",
    "0.166667\n",
    "Explanation\n",
    "\n",
    "There are 3 positive numbers, 2 negative numbers, and 1 zero in the array.\n",
    "The proportions of occurrence are positive: 3/6=0.500000, negative: 2/6=0.333333 and zeros: 1/6=0.1666667 ."
   ]
  }
 ],
 "metadata": {
  "kernelspec": {
   "display_name": "Python 3",
   "language": "python",
   "name": "python3"
  },
  "language_info": {
   "codemirror_mode": {
    "name": "ipython",
    "version": 3
   },
   "file_extension": ".py",
   "mimetype": "text/x-python",
   "name": "python",
   "nbconvert_exporter": "python",
   "pygments_lexer": "ipython3",
   "version": "3.7.3"
  }
 },
 "nbformat": 4,
 "nbformat_minor": 2
}
