{
  "nbformat": 4,
  "nbformat_minor": 0,
  "metadata": {
    "colab": {
      "provenance": [],
      "authorship_tag": "ABX9TyPHgdK8TbXjU22U9A9bEXwl",
      "include_colab_link": true
    },
    "kernelspec": {
      "name": "python3",
      "display_name": "Python 3"
    },
    "language_info": {
      "name": "python"
    }
  },
  "cells": [
    {
      "cell_type": "markdown",
      "metadata": {
        "id": "view-in-github",
        "colab_type": "text"
      },
      "source": [
        "<a href=\"https://colab.research.google.com/github/dennismingming/hackerrank/blob/master/10_Days_of_StatisticsDay_7_Spearman's_Rank_Correlation_Coefficient.ipynb\" target=\"_parent\"><img src=\"https://colab.research.google.com/assets/colab-badge.svg\" alt=\"Open In Colab\"/></a>"
      ]
    },
    {
      "cell_type": "code",
      "execution_count": null,
      "metadata": {
        "id": "4H-bbQ_LQZ-y"
      },
      "outputs": [],
      "source": [
        "#\n",
        "# Complete the 'weightedMean' function below.\n",
        "#\n",
        "# The function accepts following parameters:\n",
        "#  1. INTEGER_ARRAY X\n",
        "#  2. INTEGER_ARRAY W\n",
        "#\n",
        "\n",
        "def coll(vars1, vars2):\n",
        "    # Write your code here\n",
        "    rank_x = [sorted(vars1, reverse=True).index(ele) for ele in vars1]\n",
        "    rank_y = [sorted(vars2, reverse=True).index(ele) for ele in vars2]\n",
        "    d_xy = []\n",
        "    for i in range(len(rank_x)):\n",
        "        d_xy.append((rank_x[i] - rank_y[i]))\n",
        "    squr_d = 0\n",
        "    for i in d_xy:\n",
        "        squr_d += i*i\n",
        "    #print(squr_d)\n",
        "    print(round(1- 6*squr_d/(len(d_xy)*(len(d_xy)**2 - 1)),3))\n"
      ]
    },
    {
      "cell_type": "markdown",
      "source": [
        "https://www.hackerrank.com/challenges/s10-spearman-rank-correlation-coefficient/problem"
      ],
      "metadata": {
        "id": "txTcV-joSht_"
      }
    },
    {
      "cell_type": "code",
      "source": [
        "vars1 = [10, 9.8, 8, 7.8, 7.7, 1.7, 6, 5, 1.4, 2]\n",
        "vars2 = [200, 44, 32, 24, 22, 17, 15, 12, 8, 4]\n",
        "\n",
        "coll(vars1, vars2)"
      ],
      "metadata": {
        "colab": {
          "base_uri": "https://localhost:8080/"
        },
        "id": "C7WlYPhLSj6g",
        "outputId": "3950d39a-ae61-42da-d988-c39e9eaa93af"
      },
      "execution_count": null,
      "outputs": [
        {
          "output_type": "stream",
          "name": "stdout",
          "text": [
            "0.903\n"
          ]
        }
      ]
    },
    {
      "cell_type": "code",
      "source": [],
      "metadata": {
        "id": "CemyJV7GS6a1"
      },
      "execution_count": null,
      "outputs": []
    }
  ]
}