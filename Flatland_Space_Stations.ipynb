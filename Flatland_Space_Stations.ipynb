{
  "nbformat": 4,
  "nbformat_minor": 0,
  "metadata": {
    "colab": {
      "provenance": [],
      "authorship_tag": "ABX9TyOfjwHVaJtK7V8yVgB4NR2Z",
      "include_colab_link": true
    },
    "kernelspec": {
      "name": "python3",
      "display_name": "Python 3"
    },
    "language_info": {
      "name": "python"
    }
  },
  "cells": [
    {
      "cell_type": "markdown",
      "metadata": {
        "id": "view-in-github",
        "colab_type": "text"
      },
      "source": [
        "<a href=\"https://colab.research.google.com/github/dennismingming/hackerrank/blob/master/Flatland_Space_Stations.ipynb\" target=\"_parent\"><img src=\"https://colab.research.google.com/assets/colab-badge.svg\" alt=\"Open In Colab\"/></a>"
      ]
    },
    {
      "cell_type": "code",
      "execution_count": 1,
      "metadata": {
        "id": "VMbp0xuHkjne"
      },
      "outputs": [],
      "source": [
        "n = 5\n",
        "c =[0,4]"
      ]
    },
    {
      "cell_type": "code",
      "source": [
        "# 1차 시도\n",
        "def flatlandSpaceStations(n, c):\n",
        "    dist_list = [0 for w in range(n)]\n",
        "    print(min([3,6,7,5,4,5]))\n",
        "    for i in range(n):\n",
        "        dist_to_c = []\n",
        "        print(i)\n",
        "        for i_1 in c:\n",
        "            print(i_1)\n",
        "            print('aaaaaa')\n",
        "\n",
        "            print('a2')\n",
        "            print(abs(i - i_1))\n",
        "            print('a3')\n",
        "            dist_to_c.append(abs(i - i_1))\n",
        "        print(dist_to_c)\n",
        "        print(min(dist_to_c))\n",
        "        dist_list[i] = min(dist_to_c)\n",
        "\n",
        "    k = max(dist_list)\n",
        "\n",
        "    print(k)\n",
        ""
      ],
      "metadata": {
        "id": "wCJXA2Elks0x"
      },
      "execution_count": 37,
      "outputs": []
    },
    {
      "cell_type": "code",
      "source": [
        "def flatlandSpaceStations(n, c):\n",
        "    dist_list = [0 for w in range(n)]\n",
        "    m= len(c)\n",
        "    i_2 = 0\n",
        "    if n-m < 2:\n",
        "        return n-m\n",
        "    c = sorted(c)# c 정렬 하기\n",
        "\n",
        "    for i in range(n):\n",
        "      if i <= c[0]:\n",
        "      # c0 이전에 i가 있을때\n",
        "        dist_list[i] = c[0] - i\n",
        "      elif i>= c[-1]:\n",
        "        dist_list[i] = i - c[-1]\n",
        "      else:\n",
        "        while i < c[- 1]:\n",
        "          print(f\"i:{i} i_2 {i_2}\")\n",
        "          if i_2 == m:\n",
        "            break\n",
        "\n",
        "          print(f\"min : {min([abs(c[i_2] - i),abs(c[i_2 + 1] - i)])}\")\n",
        "          while i < c[i-2]:\n",
        "\n",
        "            dist_list[i] = min([abs(c[i_2] - i),abs(c[i_2 + 1] - i)])\n",
        "            print(\"확인\")\n",
        "          i_2 = i_2 + 1\n",
        "    print(dist_list)\n",
        "    k = max(dist_list)\n",
        "\n",
        "    return k\n"
      ],
      "metadata": {
        "id": "-FuJOgR7u_pI"
      },
      "execution_count": 50,
      "outputs": []
    },
    {
      "cell_type": "code",
      "source": [
        "def flatlandSpaceStations(n, c):\n",
        "    dist_list = [0 for w in range(n)]\n",
        "    m = len(c)\n",
        "    i_2 = 0\n",
        "    if n - m < 2:\n",
        "        return n - m\n",
        "    c = sorted(c)  # c 정렬 하기\n",
        "\n",
        "    for i in range(n):\n",
        "        if i <= c[0]:\n",
        "            # c0 이전에 i가 있을 때\n",
        "            dist_list[i] = c[0] - i\n",
        "        elif i >= c[-1]:\n",
        "            dist_list[i] = i - c[-1]\n",
        "        else:\n",
        "            while i < c[-1]:\n",
        "                print(f\"i:{i} i_2 {i_2}\")\n",
        "                if i_2 == m:\n",
        "                    break\n",
        "\n",
        "                if i < c[i_2]:\n",
        "                    dist_list[i] = min([abs(c[i_2] - i), abs(c[i_2 - 1] - i)])\n",
        "                    print(\"확인\")\n",
        "                    break\n",
        "\n",
        "                i_2 = i_2 + 1\n",
        "    print(dist_list)\n",
        "    k = max(dist_list)\n",
        "\n",
        "    return k\n",
        "\n",
        "\n",
        "\n",
        "\n",
        "\n",
        "\n",
        "\n"
      ],
      "metadata": {
        "id": "LNn2sFZFCL2-"
      },
      "execution_count": 51,
      "outputs": []
    },
    {
      "cell_type": "code",
      "source": [
        "flatlandSpaceStations(n,c)"
      ],
      "metadata": {
        "colab": {
          "base_uri": "https://localhost:8080/"
        },
        "id": "obFz6xCTADNo",
        "outputId": "720230c5-b59a-41b9-aec2-3d970f871362"
      },
      "execution_count": 52,
      "outputs": [
        {
          "output_type": "stream",
          "name": "stdout",
          "text": [
            "i:1 i_2 0\n",
            "i:1 i_2 1\n",
            "확인\n",
            "i:2 i_2 1\n",
            "확인\n",
            "i:3 i_2 1\n",
            "확인\n",
            "[0, 1, 2, 1, 0]\n"
          ]
        },
        {
          "output_type": "execute_result",
          "data": {
            "text/plain": [
              "2"
            ]
          },
          "metadata": {},
          "execution_count": 52
        }
      ]
    },
    {
      "cell_type": "code",
      "source": [],
      "metadata": {
        "id": "EQ3tBKSQADyU"
      },
      "execution_count": null,
      "outputs": []
    }
  ]
}