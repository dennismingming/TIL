{
  "nbformat": 4,
  "nbformat_minor": 0,
  "metadata": {
    "colab": {
      "provenance": [],
      "authorship_tag": "ABX9TyOVqGZypbc14w8/UFH4DNLI",
      "include_colab_link": true
    },
    "kernelspec": {
      "name": "python3",
      "display_name": "Python 3"
    },
    "language_info": {
      "name": "python"
    }
  },
  "cells": [
    {
      "cell_type": "markdown",
      "metadata": {
        "id": "view-in-github",
        "colab_type": "text"
      },
      "source": [
        "<a href=\"https://colab.research.google.com/github/dennismingming/hackerrank/blob/master/Bill_Division.ipynb\" target=\"_parent\"><img src=\"https://colab.research.google.com/assets/colab-badge.svg\" alt=\"Open In Colab\"/></a>"
      ]
    },
    {
      "cell_type": "code",
      "execution_count": null,
      "metadata": {
        "id": "TEhynID4p7Sn"
      },
      "outputs": [],
      "source": [
        "def bonAppetit(bill, k, b):\n",
        "    # Write your code here\n",
        "\n",
        "    Anna_bill = bill\n",
        "    del Anna_bill[k]\n",
        "\n",
        "    result = b - sum(Anna_bill)/2\n",
        "    if result <= 0:\n",
        "        print(\"Bon Appetit\")\n",
        "    else:\n",
        "        print(int(result))"
      ]
    },
    {
      "cell_type": "code",
      "source": [],
      "metadata": {
        "id": "PxRC5zvfp8y_"
      },
      "execution_count": null,
      "outputs": []
    },
    {
      "cell_type": "code",
      "source": [
        "bill = [3,10,2,9]\n",
        "k = 1\n",
        "b = 12\n",
        "bonAppetit(bill, k, b)"
      ],
      "metadata": {
        "colab": {
          "base_uri": "https://localhost:8080/"
        },
        "id": "vrXNLK98yHjr",
        "outputId": "29607ecc-44cd-4b03-ab4f-ab6a0210944c"
      },
      "execution_count": null,
      "outputs": [
        {
          "output_type": "stream",
          "name": "stdout",
          "text": [
            "[3, 10, 2, 9]\n",
            "[3, 2, 9]\n",
            "[3, 2, 9]\n",
            "14\n"
          ]
        },
        {
          "output_type": "execute_result",
          "data": {
            "text/plain": [
              "5"
            ]
          },
          "metadata": {},
          "execution_count": 22
        }
      ]
    },
    {
      "cell_type": "code",
      "source": [],
      "metadata": {
        "id": "8EZTp--KyK3x"
      },
      "execution_count": null,
      "outputs": []
    }
  ]
}