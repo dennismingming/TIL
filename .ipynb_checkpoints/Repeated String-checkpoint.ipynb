{
 "cells": [
  {
   "cell_type": "code",
   "execution_count": 52,
   "metadata": {},
   "outputs": [],
   "source": [
    "def repeatedString(s, n):\n",
    "    num_a = s.count('a')\n",
    "    multiple = n // len(s)\n",
    "    remain = n % len(s) \n",
    "    return multiple * num_a + s[:remain].count('a')\n"
   ]
  },
  {
   "cell_type": "code",
   "execution_count": 53,
   "metadata": {},
   "outputs": [
    {
     "data": {
      "text/plain": [
       "7"
      ]
     },
     "execution_count": 53,
     "metadata": {},
     "output_type": "execute_result"
    }
   ],
   "source": [
    "s = \"aba\"\n",
    "n = 10\n",
    "repeatedString(s, n)"
   ]
  },
  {
   "cell_type": "markdown",
   "metadata": {},
   "source": [
    "Lilah has a string, s, of lowercase English letters that she repeated infinitely many times.\n",
    "\n",
    "Given an integer,n , find and print the number of letter a's in the first n letters of Lilah's infinite string.\n",
    "\n",
    "For example, if the string s = 'abcac' and n = 10 , the substring we consider is abcacabcac, the first 10 characters of her infinite string. There are 4 occurrences of a in the substring.\n",
    "\n",
    "Function Description\n",
    "\n",
    "Complete the repeatedString function in the editor below. It should return an integer representing the number of occurrences of a in the prefix of length n in the infinitely repeating string.\n",
    "\n",
    "repeatedString has the following parameter(s):\n",
    "\n",
    "s: a string to repeat\n",
    "n: the number of characters to consider\n",
    "Input Format\n",
    "\n",
    "The first line contains a single string,s .\n",
    "The second line contains an integer,n .\n",
    "\n",
    "Constraints\n",
    "$ 1<= |S|<=100 $\n",
    "$ 1<= n <= 10^{12} $\n",
    "For 25% of the test cases,$n<=10^6 $.\n",
    "Output Format\n",
    "\n",
    "Print a single integer denoting the number of letter a's in the first n letters of the infinite string created by repeating s infinitely many times.\n",
    "\n",
    "Sample Input 0\n",
    "\n",
    "aba\n",
    "10\n",
    "Sample Output 0\n",
    "\n",
    "7\n",
    "Explanation 0\n",
    "The first $n=10$ letters of the infinite string are abaabaabaa. Because there are 7 a's, we print 7 on a new line.\n",
    "\n",
    "Sample Input 1\n",
    "\n",
    "a\n",
    "1000000000000\n",
    "Sample Output 1\n",
    "\n",
    "1000000000000\n",
    "Explanation 1\n",
    "Because all of the first $n=1000000000000$ letters of the infinite string are a, we print 1000000000000 on a new line."
   ]
  },
  {
   "cell_type": "code",
   "execution_count": null,
   "metadata": {},
   "outputs": [],
   "source": []
  }
 ],
 "metadata": {
  "kernelspec": {
   "display_name": "Python 3",
   "language": "python",
   "name": "python3"
  },
  "language_info": {
   "codemirror_mode": {
    "name": "ipython",
    "version": 3
   },
   "file_extension": ".py",
   "mimetype": "text/x-python",
   "name": "python",
   "nbconvert_exporter": "python",
   "pygments_lexer": "ipython3",
   "version": "3.7.4"
  }
 },
 "nbformat": 4,
 "nbformat_minor": 2
}
