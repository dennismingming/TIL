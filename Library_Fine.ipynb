{
  "nbformat": 4,
  "nbformat_minor": 0,
  "metadata": {
    "colab": {
      "provenance": [],
      "authorship_tag": "ABX9TyOaV2X1+HV+GU36hTe2whew",
      "include_colab_link": true
    },
    "kernelspec": {
      "name": "python3",
      "display_name": "Python 3"
    },
    "language_info": {
      "name": "python"
    }
  },
  "cells": [
    {
      "cell_type": "markdown",
      "metadata": {
        "id": "view-in-github",
        "colab_type": "text"
      },
      "source": [
        "<a href=\"https://colab.research.google.com/github/dennismingming/hackerrank/blob/master/Library_Fine.ipynb\" target=\"_parent\"><img src=\"https://colab.research.google.com/assets/colab-badge.svg\" alt=\"Open In Colab\"/></a>"
      ]
    },
    {
      "cell_type": "code",
      "execution_count": 2,
      "metadata": {
        "id": "1QRUIXbLgewl"
      },
      "outputs": [],
      "source": [
        "def libraryFine(d1, m1, y1, d2, m2, y2):\n",
        "    # Write your code here\n",
        "    answer = 0\n",
        "    if y1 >= y2:\n",
        "        if y1 > y2:\n",
        "            answer =10000\n",
        "        else:\n",
        "            if m1>=m2:\n",
        "                if m1>m2:\n",
        "                    answer= 500*(m1-m2)\n",
        "                else:\n",
        "                    if d1 >= d2:\n",
        "                        if d1 > d2:\n",
        "                            answer = 15 *(d1-d2)\n",
        "\n",
        "\n",
        "    return answer"
      ]
    },
    {
      "cell_type": "markdown",
      "source": [
        "https://www.hackerrank.com/challenges/library-fine/problem"
      ],
      "metadata": {
        "id": "IAAgf0gFggI4"
      }
    },
    {
      "cell_type": "code",
      "source": [
        "d1, m1, y1 = 9, 6, 2015\n",
        "d2, m2, y2 = 6, 6, 2015\n",
        "\n",
        "libraryFine(d1, m1, y1, d2, m2, y2)"
      ],
      "metadata": {
        "colab": {
          "base_uri": "https://localhost:8080/"
        },
        "id": "9eu69FeWgmvH",
        "outputId": "32fbb00a-a25f-4959-9066-7cc4b2e4a9b8"
      },
      "execution_count": 3,
      "outputs": [
        {
          "output_type": "execute_result",
          "data": {
            "text/plain": [
              "45"
            ]
          },
          "metadata": {},
          "execution_count": 3
        }
      ]
    },
    {
      "cell_type": "code",
      "source": [],
      "metadata": {
        "id": "9GAkWWcYg8GH"
      },
      "execution_count": null,
      "outputs": []
    }
  ]
}