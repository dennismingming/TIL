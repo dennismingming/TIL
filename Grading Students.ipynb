{
 "cells": [
  {
   "cell_type": "code",
   "execution_count": 3,
   "metadata": {},
   "outputs": [],
   "source": [
    "#!/bin/python3\n",
    "\n",
    "import math\n",
    "import os\n",
    "import random\n",
    "import re\n",
    "import sys\n",
    "\n",
    "#\n",
    "# Complete the 'gradingStudents' function below.\n",
    "#\n",
    "# The function is expected to return an INTEGER_ARRAY.\n",
    "# The function accepts INTEGER_ARRAY grades as parameter.\n",
    "#\n",
    "\n",
    "def gradingStudents(grades):\n",
    "    # Write your code here\n",
    "    result = grades\n",
    "    for i in range(len(grades)):\n",
    "        if grades[i] > 35 and 5 - grades[i]%5 < 3:\n",
    "            result[i] = grades[i] + (5 - grades[i] % 5)\n",
    "        else:\n",
    "            \n",
    "            result[i] = grades[i]\n",
    "\n",
    "    tuple(result)\n",
    "\n",
    "    return result\n",
    "\n"
   ]
  },
  {
   "cell_type": "code",
   "execution_count": 5,
   "metadata": {},
   "outputs": [
    {
     "data": {
      "text/plain": [
       "[75, 67, 40, 33]"
      ]
     },
     "execution_count": 5,
     "metadata": {},
     "output_type": "execute_result"
    }
   ],
   "source": [
    "grades = [73, 67, 38, 33]\n",
    "gradingStudents(grades)\n"
   ]
  },
  {
   "cell_type": "markdown",
   "metadata": {},
   "source": [
    "HackerLand University has the following grading policy:\n",
    "\n",
    "Every student receives a grade in the inclusive range from 0 to 100.\n",
    "Any grade less than 40 is a failing grade.\n",
    "Sam is a professor at the university and likes to round each student's grade according to these rules:\n",
    "\n",
    "If the difference between the grade and the next multiple of 5 is less than 3, round grade up to the next multiple of 5.\n",
    "If the value of grade is less than 38, no rounding occurs as the result will still be a failing grade.\n",
    "For example, grade = 84 will be rounded to 85 but grade = 29 will not be rounded because the rounding would result in a number that is less than 40.\n",
    "\n",
    "Given the initial value of grade for each of Sam's n students, write code to automate the rounding process.\n",
    "\n",
    "Function Description\n",
    "\n",
    "Complete the function gradingStudents in the editor below. It should return an integer array consisting of rounded grades.\n",
    "\n",
    "gradingStudents has the following parameter(s):\n",
    "\n",
    "- grades: an array of integers representing grades before rounding\n",
    "\n",
    "Input Format\n",
    "\n",
    "The first line contains a single integer, n , the number of students.\n",
    "Each line i of the n subsequent lines contains a single integer,grades[i] , denoting student i's grade.\n",
    "\n",
    "Constraints\n",
    "\n",
    "- $ 1 \\leq n \\leq 60 $\n",
    "- $ 0 \\leq grade[i] \\leq 100$\n",
    "\n",
    "Output Format\n",
    "\n",
    "For each grades[i], print the rounded grade on a new line.\n",
    "\n",
    "Sample Input 0\n",
    "\n",
    "4\n",
    "73\n",
    "67\n",
    "38\n",
    "33\n",
    "\n",
    "Sample Output 0\n",
    "\n",
    "75\n",
    "67\n",
    "40\n",
    "33\n",
    "\n",
    "Explanation 0\n",
    "\n",
    "<img src = https://s3.amazonaws.com/hr-challenge-images/0/1484768684-54439977a1-curving2.png>\n",
    "\n",
    "Student 1 received a 73, and the next multiple of 5 from 73 is 75. Since , the student's grade is rounded to .\n",
    "Student  received a , and the next multiple of  from  is . Since , the grade will not be modified and the student's final grade is .\n",
    "Student  received a , and the next multiple of  from  is . Since , the student's grade will be rounded to .\n",
    "Student  received a grade below , so the grade will not be modified and the student's final grade is ."
   ]
  },
  {
   "cell_type": "code",
   "execution_count": null,
   "metadata": {},
   "outputs": [],
   "source": []
  }
 ],
 "metadata": {
  "kernelspec": {
   "display_name": "Python 3",
   "language": "python",
   "name": "python3"
  },
  "language_info": {
   "codemirror_mode": {
    "name": "ipython",
    "version": 3
   },
   "file_extension": ".py",
   "mimetype": "text/x-python",
   "name": "python",
   "nbconvert_exporter": "python",
   "pygments_lexer": "ipython3",
   "version": "3.7.3"
  }
 },
 "nbformat": 4,
 "nbformat_minor": 2
}
