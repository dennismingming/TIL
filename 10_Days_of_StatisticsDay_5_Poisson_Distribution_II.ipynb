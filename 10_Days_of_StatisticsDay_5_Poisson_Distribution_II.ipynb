{
  "nbformat": 4,
  "nbformat_minor": 0,
  "metadata": {
    "colab": {
      "provenance": [],
      "authorship_tag": "ABX9TyPKUabAMID9H7HEPKyjcVff",
      "include_colab_link": true
    },
    "kernelspec": {
      "name": "python3",
      "display_name": "Python 3"
    },
    "language_info": {
      "name": "python"
    }
  },
  "cells": [
    {
      "cell_type": "markdown",
      "metadata": {
        "id": "view-in-github",
        "colab_type": "text"
      },
      "source": [
        "<a href=\"https://colab.research.google.com/github/dennismingming/hackerrank/blob/master/10_Days_of_StatisticsDay_5_Poisson_Distribution_II.ipynb\" target=\"_parent\"><img src=\"https://colab.research.google.com/assets/colab-badge.svg\" alt=\"Open In Colab\"/></a>"
      ]
    },
    {
      "cell_type": "code",
      "execution_count": null,
      "metadata": {
        "id": "8_JM-e9dfEX0"
      },
      "outputs": [],
      "source": [
        "# Enter your code here. Read input from STDIN. Print output to STDOUT\n",
        "import math\n",
        "\n",
        "mean_A, mean_B = map(float, input().split())\n",
        "cost_of_operating_A = 160 + (40 * (math.pow(mean_A, 2) + mean_A))\n",
        "cost_of_operating_B = 128 + (40 * (math.pow(mean_B, 2) + mean_B))\n",
        "print(round(cost_of_operating_A, 3))\n",
        "print(round(cost_of_operating_B, 3))"
      ]
    }
  ]
}