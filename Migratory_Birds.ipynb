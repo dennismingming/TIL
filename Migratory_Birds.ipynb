{
  "nbformat": 4,
  "nbformat_minor": 0,
  "metadata": {
    "colab": {
      "provenance": [],
      "authorship_tag": "ABX9TyMEEGTdLjwcpUsPgbctaaNQ",
      "include_colab_link": true
    },
    "kernelspec": {
      "name": "python3",
      "display_name": "Python 3"
    },
    "language_info": {
      "name": "python"
    }
  },
  "cells": [
    {
      "cell_type": "markdown",
      "metadata": {
        "id": "view-in-github",
        "colab_type": "text"
      },
      "source": [
        "<a href=\"https://colab.research.google.com/github/dennismingming/hackerrank/blob/master/Migratory_Birds.ipynb\" target=\"_parent\"><img src=\"https://colab.research.google.com/assets/colab-badge.svg\" alt=\"Open In Colab\"/></a>"
      ]
    },
    {
      "cell_type": "code",
      "execution_count": 21,
      "metadata": {
        "id": "QoVXsPduYdrJ"
      },
      "outputs": [],
      "source": [
        "def migratoryBirds(arr):\n",
        "    # Write your code here\n",
        "    dic_Birds ={}\n",
        "    str\n",
        "    list_Birds = set(arr)\n",
        "    list_Birds = str(list_Birds)\n",
        "    #print(list_Birds)\n",
        "    for idx in list_Birds:\n",
        "        dic_Birds[idx] = 0\n",
        "\n",
        "    for i in range(len(arr)):\n",
        "        dic_Birds[str(arr[i])] = dic_Birds[str(arr[i])] +1\n",
        "\n",
        "    max_value = max(dic_Birds.values())\n",
        "     # 최대 값을 가진 새 종류 찾기\n",
        "    max_birds = [k for k, v in dic_Birds.items() if v == max_value]\n",
        "    #print([k for k, v in dic_Birds.values() if v == str(max_value) ])\n",
        "    result = min(max_birds)\n",
        "\n",
        "    return result"
      ]
    },
    {
      "cell_type": "code",
      "source": [
        "arr = [1, 4, 4, 4, 5, 3]\n",
        "migratoryBirds(arr)"
      ],
      "metadata": {
        "colab": {
          "base_uri": "https://localhost:8080/",
          "height": 54
        },
        "id": "k_R2z1T6Yk3f",
        "outputId": "70892499-549b-48d5-85fc-59c2f216f364"
      },
      "execution_count": 22,
      "outputs": [
        {
          "output_type": "stream",
          "name": "stdout",
          "text": [
            "{1, 3, 4, 5}\n"
          ]
        },
        {
          "output_type": "execute_result",
          "data": {
            "text/plain": [
              "'4'"
            ],
            "application/vnd.google.colaboratory.intrinsic+json": {
              "type": "string"
            }
          },
          "metadata": {},
          "execution_count": 22
        }
      ]
    },
    {
      "cell_type": "code",
      "source": [
        "test_dict = {'0': 'AA',\n",
        "             '1': 'BB',\n",
        "             '2': 'CC',\n",
        "             '3': 'DD'}\n",
        "\n",
        "[k for k, v in test_dict.items() if v == 'DD']\n"
      ],
      "metadata": {
        "colab": {
          "base_uri": "https://localhost:8080/"
        },
        "id": "ISfa1NEzYrDU",
        "outputId": "72c8fb9f-65e1-4c19-f634-0e610f5c98af"
      },
      "execution_count": 13,
      "outputs": [
        {
          "output_type": "execute_result",
          "data": {
            "text/plain": [
              "['3']"
            ]
          },
          "metadata": {},
          "execution_count": 13
        }
      ]
    },
    {
      "cell_type": "code",
      "source": [],
      "metadata": {
        "id": "EVgZ7-n7cmuz"
      },
      "execution_count": null,
      "outputs": []
    }
  ]
}