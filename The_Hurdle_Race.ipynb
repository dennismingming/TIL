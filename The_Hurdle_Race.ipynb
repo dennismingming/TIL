{
  "nbformat": 4,
  "nbformat_minor": 0,
  "metadata": {
    "colab": {
      "provenance": [],
      "authorship_tag": "ABX9TyOQe0Gh2Ryt7s2QpJPujfrk",
      "include_colab_link": true
    },
    "kernelspec": {
      "name": "python3",
      "display_name": "Python 3"
    },
    "language_info": {
      "name": "python"
    }
  },
  "cells": [
    {
      "cell_type": "markdown",
      "metadata": {
        "id": "view-in-github",
        "colab_type": "text"
      },
      "source": [
        "<a href=\"https://colab.research.google.com/github/dennismingming/hackerrank/blob/master/The_Hurdle_Race.ipynb\" target=\"_parent\"><img src=\"https://colab.research.google.com/assets/colab-badge.svg\" alt=\"Open In Colab\"/></a>"
      ]
    },
    {
      "cell_type": "code",
      "execution_count": null,
      "metadata": {
        "id": "XNl9KBTT58Cr"
      },
      "outputs": [],
      "source": [
        "def hurdleRace(k, height):\n",
        "    # Write your code here\n",
        "    max_height = max(height)\n",
        "    if k < max_height:\n",
        "        return max_height - k\n",
        "    else:\n",
        "        return 0"
      ]
    },
    {
      "cell_type": "code",
      "source": [
        "k = 4\n",
        "height = [1, 6, 3, 5, 2]\n",
        "hurdleRace(k, height)"
      ],
      "metadata": {
        "colab": {
          "base_uri": "https://localhost:8080/"
        },
        "id": "tY3uj5JN58qs",
        "outputId": "9010229f-a2d6-4777-b11c-f0e46d2f77e8"
      },
      "execution_count": null,
      "outputs": [
        {
          "output_type": "execute_result",
          "data": {
            "text/plain": [
              "2"
            ]
          },
          "metadata": {},
          "execution_count": 2
        }
      ]
    },
    {
      "cell_type": "code",
      "source": [],
      "metadata": {
        "id": "Dj-vq56K6QH3"
      },
      "execution_count": null,
      "outputs": []
    }
  ]
}