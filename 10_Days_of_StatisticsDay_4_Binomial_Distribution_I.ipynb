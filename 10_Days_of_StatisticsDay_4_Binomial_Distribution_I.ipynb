{
  "nbformat": 4,
  "nbformat_minor": 0,
  "metadata": {
    "colab": {
      "provenance": [],
      "authorship_tag": "ABX9TyP5+R77jCqapqzmzQcosZg9",
      "include_colab_link": true
    },
    "kernelspec": {
      "name": "python3",
      "display_name": "Python 3"
    },
    "language_info": {
      "name": "python"
    }
  },
  "cells": [
    {
      "cell_type": "markdown",
      "metadata": {
        "id": "view-in-github",
        "colab_type": "text"
      },
      "source": [
        "<a href=\"https://colab.research.google.com/github/dennismingming/hackerrank/blob/master/10_Days_of_StatisticsDay_4_Binomial_Distribution_I.ipynb\" target=\"_parent\"><img src=\"https://colab.research.google.com/assets/colab-badge.svg\" alt=\"Open In Colab\"/></a>"
      ]
    },
    {
      "cell_type": "code",
      "execution_count": null,
      "metadata": {
        "id": "8uiHbiyPARJm"
      },
      "outputs": [],
      "source": [
        "# Enter your code here. Read input from STDIN. Print output to STDOUT\n",
        "import math\n",
        "import os\n",
        "import random\n",
        "import re\n",
        "import sys\n",
        "from math import factorial\n",
        "\n",
        "def bin_dist(k, n, p):\n",
        "    nck = factorial(n) / (factorial(k) * factorial(n - k))\n",
        "    pd = nck * p**k * (1-p)**(n-k)\n",
        "    return pd\n",
        "\n",
        "def for_rna(k,n,p):\n",
        "    result = 0\n",
        "    for i in range(k):\n",
        "        result += bin_dist(i,n,p)\n",
        "\n",
        "    print(round(1-result,3))\n",
        "    return round(result,3)\n",
        "\n",
        "if __name__ == '__main__':\n",
        "    p_bg = list(map(float, input().rstrip().split( )))\n",
        "    #print(p_bg)\n",
        "    p = p_bg[0] / (p_bg[0] + p_bg[1])\n",
        "\n",
        "    n=6\n",
        "    k = 3\n",
        "    for_rna(k,n,p)\n"
      ]
    }
  ]
}