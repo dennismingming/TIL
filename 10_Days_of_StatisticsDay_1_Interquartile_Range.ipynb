{
  "nbformat": 4,
  "nbformat_minor": 0,
  "metadata": {
    "colab": {
      "provenance": [],
      "authorship_tag": "ABX9TyNy3yWFvCIssBKrdFj4QEUf",
      "include_colab_link": true
    },
    "kernelspec": {
      "name": "python3",
      "display_name": "Python 3"
    },
    "language_info": {
      "name": "python"
    }
  },
  "cells": [
    {
      "cell_type": "markdown",
      "metadata": {
        "id": "view-in-github",
        "colab_type": "text"
      },
      "source": [
        "<a href=\"https://colab.research.google.com/github/dennismingming/hackerrank/blob/master/10_Days_of_StatisticsDay_1_Interquartile_Range.ipynb\" target=\"_parent\"><img src=\"https://colab.research.google.com/assets/colab-badge.svg\" alt=\"Open In Colab\"/></a>"
      ]
    },
    {
      "cell_type": "code",
      "execution_count": null,
      "metadata": {
        "id": "v0BuyvQpuM9M"
      },
      "outputs": [],
      "source": [
        "https://www.hackerrank.com/challenges/s10-interquartile-range/problem"
      ]
    },
    {
      "cell_type": "markdown",
      "source": [],
      "metadata": {
        "id": "uP02UWuruO7D"
      }
    },
    {
      "cell_type": "code",
      "source": [
        "from statistics import mean, median, mode\n",
        "#\n",
        "# Complete the 'interQuartile' function below.\n",
        "#\n",
        "# The function accepts following parameters:\n",
        "#  1. INTEGER_ARRAY values\n",
        "#  2. INTEGER_ARRAY freqs\n",
        "#\n",
        "\n",
        "def interQuartile(values, freqs):\n",
        "    # Print your answer to 1 decimal place within this function\n",
        "    S = []\n",
        "    j = 1\n",
        "    k = 0\n",
        "    for i in range(1,sum(freqs)+1):\n",
        "        if sum(freqs[0:j])>= i:\n",
        "            S.append(values[k])\n",
        "        else:\n",
        "            j +=1\n",
        "            k +=1\n",
        "            S.append(values[k])\n",
        "    S.sort()\n",
        "    if len(S)%2 == 0:\n",
        "        lower = S[0:len(S)//2]\n",
        "        upper = S[len(S)//2:]\n",
        "    else:\n",
        "        lower = S[0:len(S)//2 -1]\n",
        "        upper = S[-1*len(S)//2 +1:]\n",
        "    #print(S[0:len(S)//2],S[-1*len(S)//2 +1:])\n",
        "    #print(round(median(lower),1),round(median(upper),1))\n",
        "    print(abs(round( float(median(lower)),1)- round( float(median(upper)),1)))\n",
        "    return abs(round( float(median(lower)),1)- round( float(median(upper)),1))"
      ],
      "metadata": {
        "id": "oYK33JWYuOIl"
      },
      "execution_count": null,
      "outputs": []
    },
    {
      "cell_type": "code",
      "source": [
        "values = [6, 12, 8, 10, 20, 16]\n",
        "freqs = [5, 4, 3, 2, 1, 5]\n",
        "interQuartile(values, freqs)"
      ],
      "metadata": {
        "colab": {
          "base_uri": "https://localhost:8080/"
        },
        "id": "_DiVFBvpuOLz",
        "outputId": "a6d2a070-e54f-4551-c805-45b5c8fe2d71"
      },
      "execution_count": null,
      "outputs": [
        {
          "output_type": "stream",
          "name": "stdout",
          "text": [
            "9.0\n"
          ]
        },
        {
          "output_type": "execute_result",
          "data": {
            "text/plain": [
              "9.0"
            ]
          },
          "metadata": {},
          "execution_count": 32
        }
      ]
    },
    {
      "cell_type": "code",
      "source": [
        "\n",
        "values = [10, 40, 30, 50, 20]\n",
        "freqs = [1, 2, 3, 4, 5]\n",
        "interQuartile(values, freqs)"
      ],
      "metadata": {
        "colab": {
          "base_uri": "https://localhost:8080/"
        },
        "id": "NUv3FweBuOOV",
        "outputId": "cfbd0331-98b2-4b97-b213-c15da364ada7"
      },
      "execution_count": null,
      "outputs": [
        {
          "output_type": "stream",
          "name": "stdout",
          "text": [
            "30.0\n"
          ]
        },
        {
          "output_type": "execute_result",
          "data": {
            "text/plain": [
              "30.0"
            ]
          },
          "metadata": {},
          "execution_count": 33
        }
      ]
    },
    {
      "cell_type": "code",
      "source": [
        "#10 40 30 50 20 10 40 30 50 20 1 2 3 4 5 6 7 8 9 10\n",
        "#1 2 3 4 5 6 7 8 9 10 10 40 30 50 20 10 40 30 50 20"
      ],
      "metadata": {
        "colab": {
          "base_uri": "https://localhost:8080/",
          "height": 147
        },
        "id": "CJoiV3dJwcu-",
        "outputId": "4cf2e21a-d712-4219-8140-f99384e158e0"
      },
      "execution_count": null,
      "outputs": [
        {
          "output_type": "error",
          "ename": "SyntaxError",
          "evalue": "ignored",
          "traceback": [
            "\u001b[0;36m  File \u001b[0;32m\"<ipython-input-27-874f3a509aa2>\"\u001b[0;36m, line \u001b[0;32m1\u001b[0m\n\u001b[0;31m    10 40 30 50 20 10 40 30 50 20 1 2 3 4 5 6 7 8 9 10\u001b[0m\n\u001b[0m       ^\u001b[0m\n\u001b[0;31mSyntaxError\u001b[0m\u001b[0;31m:\u001b[0m invalid syntax\n"
          ]
        }
      ]
    },
    {
      "cell_type": "code",
      "source": [
        "values = [10, 40, 30, 50, 20, 10, 40, 30, 50, 20, 1, 2, 3, 4, 5, 6, 7, 8, 9, 10, 20, 10, 40, 30, 50, 20, 10, 40, 30, 50]\n",
        "freqs = [1, 2, 3, 4, 5, 6, 7, 8, 9, 10, 1, 2, 3, 4, 5, 6, 7, 8, 9, 10, 10, 40, 30, 50, 20, 10, 40, 30, 50, 20]\n",
        "interQuartile(values, freqs)\n",
        "#10 40 30 50 20 10 40 30 50 20 1 2 3 4 5 6 7 8 9 10 20 10 40 30 50 20 10 40 30 50\n",
        "#1 2 3 4 5 6 7 8 9 10 1 2 3 4 5 6 7 8 9 10 10 40 30 50 20 10 40 30 50 20"
      ],
      "metadata": {
        "colab": {
          "base_uri": "https://localhost:8080/"
        },
        "id": "DEZJTEYtCOyY",
        "outputId": "5b78bc89-0de4-43bb-e40e-7ab132ec3adb"
      },
      "execution_count": null,
      "outputs": [
        {
          "output_type": "stream",
          "name": "stdout",
          "text": [
            "30.0\n"
          ]
        },
        {
          "output_type": "execute_result",
          "data": {
            "text/plain": [
              "30.0"
            ]
          },
          "metadata": {},
          "execution_count": 34
        }
      ]
    },
    {
      "cell_type": "code",
      "source": [],
      "metadata": {
        "id": "WT5h55elCw1d"
      },
      "execution_count": null,
      "outputs": []
    }
  ]
}