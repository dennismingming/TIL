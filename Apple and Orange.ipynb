{
 "cells": [
  {
   "cell_type": "code",
   "execution_count": 24,
   "metadata": {},
   "outputs": [],
   "source": [
    "#!/bin/python3\n",
    "\n",
    "import math\n",
    "import os\n",
    "import random\n",
    "import re\n",
    "import sys\n",
    "\n",
    "# Complete the countApplesAndOranges function below.\n",
    "def countApplesAndOranges(s, t, a, b, apples, oranges):\n",
    "    count_1, count_2 = 0, 0\n",
    "    \n",
    "    for i in range(len(apples)):\n",
    "        if (a + apples[i]) >= s and (a + apples[i]) <= t:\n",
    "            count_1 += 1\n",
    "    for j in range(len(oranges)):\n",
    "        if (b + oranges[j]) <= t  and (b + oranges[j]) >= s:\n",
    "            count_2 += 1\n",
    "    \n",
    "    return count_1, count_2"
   ]
  },
  {
   "cell_type": "code",
   "execution_count": 25,
   "metadata": {},
   "outputs": [
    {
     "name": "stdout",
     "output_type": "stream",
     "text": [
      "1\n"
     ]
    },
    {
     "data": {
      "text/plain": [
       "(1, 1)"
      ]
     },
     "execution_count": 25,
     "metadata": {},
     "output_type": "execute_result"
    }
   ],
   "source": [
    "s = 7\n",
    "t = 11\n",
    "a = 5\n",
    "b = 15\n",
    "apples = [-2,2,1]\n",
    "oranges = [5,-6]\n",
    "countApplesAndOranges(s, t, a, b, apples, oranges)"
   ]
  },
  {
   "cell_type": "code",
   "execution_count": null,
   "metadata": {},
   "outputs": [],
   "source": []
  }
 ],
 "metadata": {
  "kernelspec": {
   "display_name": "Python 3",
   "language": "python",
   "name": "python3"
  },
  "language_info": {
   "codemirror_mode": {
    "name": "ipython",
    "version": 3
   },
   "file_extension": ".py",
   "mimetype": "text/x-python",
   "name": "python",
   "nbconvert_exporter": "python",
   "pygments_lexer": "ipython3",
   "version": "3.7.3"
  }
 },
 "nbformat": 4,
 "nbformat_minor": 2
}
