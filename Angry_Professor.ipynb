{
  "nbformat": 4,
  "nbformat_minor": 0,
  "metadata": {
    "colab": {
      "provenance": [],
      "authorship_tag": "ABX9TyO5hdl03OSJN7HXQHj5JIW0",
      "include_colab_link": true
    },
    "kernelspec": {
      "name": "python3",
      "display_name": "Python 3"
    },
    "language_info": {
      "name": "python"
    }
  },
  "cells": [
    {
      "cell_type": "markdown",
      "metadata": {
        "id": "view-in-github",
        "colab_type": "text"
      },
      "source": [
        "<a href=\"https://colab.research.google.com/github/dennismingming/hackerrank/blob/master/Angry_Professor.ipynb\" target=\"_parent\"><img src=\"https://colab.research.google.com/assets/colab-badge.svg\" alt=\"Open In Colab\"/></a>"
      ]
    },
    {
      "cell_type": "code",
      "execution_count": null,
      "metadata": {
        "id": "zBODgJu2YNQN"
      },
      "outputs": [],
      "source": [
        "def angryProfessor(k, a):\n",
        "    # Write your code here\n",
        "    count = 0\n",
        "    for i in range(len(a)):\n",
        "        if a[i] <= 0:\n",
        "            count += 1\n",
        "    if count < k:\n",
        "        return 'YES'\n",
        "    else:\n",
        "        return 'NO'"
      ]
    },
    {
      "cell_type": "markdown",
      "source": [
        "https://www.hackerrank.com/challenges/angry-professor/problem?isFullScreen=true"
      ],
      "metadata": {
        "id": "bHJOhA41YOTP"
      }
    }
  ]
}