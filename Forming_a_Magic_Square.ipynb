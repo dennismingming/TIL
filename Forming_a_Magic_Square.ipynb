{
  "nbformat": 4,
  "nbformat_minor": 0,
  "metadata": {
    "colab": {
      "provenance": [],
      "authorship_tag": "ABX9TyOcqUhanlsWvFrP1ufdwMB+",
      "include_colab_link": true
    },
    "kernelspec": {
      "name": "python3",
      "display_name": "Python 3"
    },
    "language_info": {
      "name": "python"
    }
  },
  "cells": [
    {
      "cell_type": "markdown",
      "metadata": {
        "id": "view-in-github",
        "colab_type": "text"
      },
      "source": [
        "<a href=\"https://colab.research.google.com/github/dennismingming/hackerrank/blob/master/Forming_a_Magic_Square.ipynb\" target=\"_parent\"><img src=\"https://colab.research.google.com/assets/colab-badge.svg\" alt=\"Open In Colab\"/></a>"
      ]
    },
    {
      "cell_type": "code",
      "execution_count": 2,
      "metadata": {
        "id": "cDVjazG0hYZc"
      },
      "outputs": [],
      "source": [
        "s = [[4, 9, 2], [3, 5, 7], [8, 1, 6]]"
      ]
    },
    {
      "cell_type": "code",
      "source": [],
      "metadata": {
        "id": "6cQttRXYhZGp"
      },
      "execution_count": 2,
      "outputs": []
    },
    {
      "cell_type": "code",
      "source": [
        "from itertools import combinations\n",
        "def formingMagicSquare(s):\n",
        "    # Write your code here\n",
        "    n = len(s[0])\n",
        "    #eveluate s\n",
        "    sum_n = ((1 + n*n)*n*n)/2\n",
        "    div_sum_n = int(sum_n / n)\n",
        "    # calculate sum of elements in a line\n",
        "    #print(div_sum_n)\n",
        "    arr = []\n",
        "    for i in range(n*n):\n",
        "        print(i)\n",
        "        arr.append(i+1)\n",
        "\n",
        "    print(list(combinations(arr, n)))\n",
        "    comb_n = combinations(arr, n)\n",
        "    #combination of lines\n",
        "    candi_list = []\n",
        "    for idx in comb_n:\n",
        "        if sum(idx) == div_sum_n:\n",
        "            candi_list.append(list(idx))\n",
        "        else:\n",
        "            pass\n",
        "    #genelate cadidation of the lines\n",
        "    print(candi_list)\n",
        "    # Generate combinations of the lines\n",
        "    candi_s = list(combinations(candi_list, n))\n",
        "\n",
        "    # Generate 3D combinations\n",
        "    candi_s_3d = []\n",
        "    for combination in candi_s:\n",
        "        temp = list(combinations(combination, n))\n",
        "        candi_s_3d.append(temp)\n",
        "\n",
        "    # Remove innermost brackets\n",
        "    candi_s_3d = [[item for sublist in combination for item in sublist] for combination in candi_s_3d]\n",
        "\n",
        "    print(candi_s_3d)\n",
        "\n",
        "    count_point = [0] * len(candi_s)\n",
        "    magicSquare = []\n",
        "    for i in range(len(candi_s_3d)):\n",
        "        for idx_2 in range(n):\n",
        "            col_sum = sum(candi_s_3d[i][idx_1][idx_2] for idx_1 in range(n))\n",
        "            if col_sum == div_sum_n:\n",
        "                count_point[i] += 1\n",
        "    # 세로 합 확인\n",
        "            diagonal_sum1 = sum(candi_s_3d[i][idx_1][idx_1] for idx_1 in range(n))\n",
        "            if diagonal_sum1 == div_sum_n:\n",
        "                count_point[i] += 1\n",
        "    # 대각선 합 확인 (왼쪽 위에서 오른쪽 아래로)\n",
        "\n",
        "            diagonal_sum2 = sum(candi_s_3d[i][idx_1][n - idx_1 - 1] for idx_1 in range(n))\n",
        "            if diagonal_sum2 == div_sum_n:\n",
        "               count_point[i] += 1\n",
        "# 대각선 합 확인 (오른쪽 위에서 왼쪽 아래로)\n",
        "            if  count_point[i] == 5:\n",
        "               magicSquare.append(candi_s_3d[i])\n",
        "    print(count_point)\n",
        "    print(magicSquare)\n",
        ""
      ],
      "metadata": {
        "id": "DfORdylohd6D"
      },
      "execution_count": 29,
      "outputs": []
    },
    {
      "cell_type": "code",
      "source": [
        "formingMagicSquare(s)"
      ],
      "metadata": {
        "colab": {
          "base_uri": "https://localhost:8080/"
        },
        "id": "EeVa8om4og_3",
        "outputId": "22a76498-9a6b-4c2b-c9af-4063540480bb"
      },
      "execution_count": 30,
      "outputs": [
        {
          "output_type": "stream",
          "name": "stdout",
          "text": [
            "0\n",
            "1\n",
            "2\n",
            "3\n",
            "4\n",
            "5\n",
            "6\n",
            "7\n",
            "8\n",
            "[(1, 2, 3), (1, 2, 4), (1, 2, 5), (1, 2, 6), (1, 2, 7), (1, 2, 8), (1, 2, 9), (1, 3, 4), (1, 3, 5), (1, 3, 6), (1, 3, 7), (1, 3, 8), (1, 3, 9), (1, 4, 5), (1, 4, 6), (1, 4, 7), (1, 4, 8), (1, 4, 9), (1, 5, 6), (1, 5, 7), (1, 5, 8), (1, 5, 9), (1, 6, 7), (1, 6, 8), (1, 6, 9), (1, 7, 8), (1, 7, 9), (1, 8, 9), (2, 3, 4), (2, 3, 5), (2, 3, 6), (2, 3, 7), (2, 3, 8), (2, 3, 9), (2, 4, 5), (2, 4, 6), (2, 4, 7), (2, 4, 8), (2, 4, 9), (2, 5, 6), (2, 5, 7), (2, 5, 8), (2, 5, 9), (2, 6, 7), (2, 6, 8), (2, 6, 9), (2, 7, 8), (2, 7, 9), (2, 8, 9), (3, 4, 5), (3, 4, 6), (3, 4, 7), (3, 4, 8), (3, 4, 9), (3, 5, 6), (3, 5, 7), (3, 5, 8), (3, 5, 9), (3, 6, 7), (3, 6, 8), (3, 6, 9), (3, 7, 8), (3, 7, 9), (3, 8, 9), (4, 5, 6), (4, 5, 7), (4, 5, 8), (4, 5, 9), (4, 6, 7), (4, 6, 8), (4, 6, 9), (4, 7, 8), (4, 7, 9), (4, 8, 9), (5, 6, 7), (5, 6, 8), (5, 6, 9), (5, 7, 8), (5, 7, 9), (5, 8, 9), (6, 7, 8), (6, 7, 9), (6, 8, 9), (7, 8, 9)]\n",
            "[[1, 5, 9], [1, 6, 8], [2, 4, 9], [2, 5, 8], [2, 6, 7], [3, 4, 8], [3, 5, 7], [4, 5, 6]]\n",
            "[[[1, 5, 9], [1, 6, 8], [2, 4, 9]], [[1, 5, 9], [1, 6, 8], [2, 5, 8]], [[1, 5, 9], [1, 6, 8], [2, 6, 7]], [[1, 5, 9], [1, 6, 8], [3, 4, 8]], [[1, 5, 9], [1, 6, 8], [3, 5, 7]], [[1, 5, 9], [1, 6, 8], [4, 5, 6]], [[1, 5, 9], [2, 4, 9], [2, 5, 8]], [[1, 5, 9], [2, 4, 9], [2, 6, 7]], [[1, 5, 9], [2, 4, 9], [3, 4, 8]], [[1, 5, 9], [2, 4, 9], [3, 5, 7]], [[1, 5, 9], [2, 4, 9], [4, 5, 6]], [[1, 5, 9], [2, 5, 8], [2, 6, 7]], [[1, 5, 9], [2, 5, 8], [3, 4, 8]], [[1, 5, 9], [2, 5, 8], [3, 5, 7]], [[1, 5, 9], [2, 5, 8], [4, 5, 6]], [[1, 5, 9], [2, 6, 7], [3, 4, 8]], [[1, 5, 9], [2, 6, 7], [3, 5, 7]], [[1, 5, 9], [2, 6, 7], [4, 5, 6]], [[1, 5, 9], [3, 4, 8], [3, 5, 7]], [[1, 5, 9], [3, 4, 8], [4, 5, 6]], [[1, 5, 9], [3, 5, 7], [4, 5, 6]], [[1, 6, 8], [2, 4, 9], [2, 5, 8]], [[1, 6, 8], [2, 4, 9], [2, 6, 7]], [[1, 6, 8], [2, 4, 9], [3, 4, 8]], [[1, 6, 8], [2, 4, 9], [3, 5, 7]], [[1, 6, 8], [2, 4, 9], [4, 5, 6]], [[1, 6, 8], [2, 5, 8], [2, 6, 7]], [[1, 6, 8], [2, 5, 8], [3, 4, 8]], [[1, 6, 8], [2, 5, 8], [3, 5, 7]], [[1, 6, 8], [2, 5, 8], [4, 5, 6]], [[1, 6, 8], [2, 6, 7], [3, 4, 8]], [[1, 6, 8], [2, 6, 7], [3, 5, 7]], [[1, 6, 8], [2, 6, 7], [4, 5, 6]], [[1, 6, 8], [3, 4, 8], [3, 5, 7]], [[1, 6, 8], [3, 4, 8], [4, 5, 6]], [[1, 6, 8], [3, 5, 7], [4, 5, 6]], [[2, 4, 9], [2, 5, 8], [2, 6, 7]], [[2, 4, 9], [2, 5, 8], [3, 4, 8]], [[2, 4, 9], [2, 5, 8], [3, 5, 7]], [[2, 4, 9], [2, 5, 8], [4, 5, 6]], [[2, 4, 9], [2, 6, 7], [3, 4, 8]], [[2, 4, 9], [2, 6, 7], [3, 5, 7]], [[2, 4, 9], [2, 6, 7], [4, 5, 6]], [[2, 4, 9], [3, 4, 8], [3, 5, 7]], [[2, 4, 9], [3, 4, 8], [4, 5, 6]], [[2, 4, 9], [3, 5, 7], [4, 5, 6]], [[2, 5, 8], [2, 6, 7], [3, 4, 8]], [[2, 5, 8], [2, 6, 7], [3, 5, 7]], [[2, 5, 8], [2, 6, 7], [4, 5, 6]], [[2, 5, 8], [3, 4, 8], [3, 5, 7]], [[2, 5, 8], [3, 4, 8], [4, 5, 6]], [[2, 5, 8], [3, 5, 7], [4, 5, 6]], [[2, 6, 7], [3, 4, 8], [3, 5, 7]], [[2, 6, 7], [3, 4, 8], [4, 5, 6]], [[2, 6, 7], [3, 5, 7], [4, 5, 6]], [[3, 4, 8], [3, 5, 7], [4, 5, 6]]]\n",
            "[1, 3, 0, 4, 0, 0, 3, 4, 0, 0, 0, 0, 0, 1, 1, 4, 0, 0, 0, 0, 1, 1, 0, 3, 4, 1, 3, 1, 0, 0, 3, 0, 0, 4, 1, 0, 1, 3, 0, 0, 0, 4, 1, 0, 0, 0, 1, 3, 0, 3, 0, 1, 1, 4, 0, 0]\n",
            "[]\n"
          ]
        }
      ]
    },
    {
      "cell_type": "code",
      "source": [
        "comb_n = [(1, 2, 3), (1, 2, 4), (1, 2, 5)]\n",
        "div_sum_n = 15\n",
        "for idx in comb_n:\n",
        "    print(sum(idx))\n",
        "    if sum(idx) == div_sum_n:\n",
        "        pirnt(idx)\n"
      ],
      "metadata": {
        "colab": {
          "base_uri": "https://localhost:8080/"
        },
        "id": "WBgOF43PoqBD",
        "outputId": "c38fc93a-c7d5-4a75-b151-3e03bda7ed64"
      },
      "execution_count": 31,
      "outputs": [
        {
          "output_type": "stream",
          "name": "stdout",
          "text": [
            "6\n",
            "7\n",
            "8\n"
          ]
        }
      ]
    },
    {
      "cell_type": "code",
      "source": [],
      "metadata": {
        "id": "S7FPW_Vprk5O"
      },
      "execution_count": null,
      "outputs": []
    }
  ]
}