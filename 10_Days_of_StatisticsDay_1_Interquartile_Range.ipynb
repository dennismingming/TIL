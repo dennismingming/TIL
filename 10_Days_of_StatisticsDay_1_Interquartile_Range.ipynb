{
  "nbformat": 4,
  "nbformat_minor": 0,
  "metadata": {
    "colab": {
      "provenance": [],
      "authorship_tag": "ABX9TyNGKUQtIXFbOCuaGqgB+xTb",
      "include_colab_link": true
    },
    "kernelspec": {
      "name": "python3",
      "display_name": "Python 3"
    },
    "language_info": {
      "name": "python"
    }
  },
  "cells": [
    {
      "cell_type": "markdown",
      "metadata": {
        "id": "view-in-github",
        "colab_type": "text"
      },
      "source": [
        "<a href=\"https://colab.research.google.com/github/dennismingming/hackerrank/blob/master/10_Days_of_StatisticsDay_1_Interquartile_Range.ipynb\" target=\"_parent\"><img src=\"https://colab.research.google.com/assets/colab-badge.svg\" alt=\"Open In Colab\"/></a>"
      ]
    },
    {
      "cell_type": "code",
      "execution_count": null,
      "metadata": {
        "id": "v0BuyvQpuM9M"
      },
      "outputs": [],
      "source": [
        "https://www.hackerrank.com/challenges/s10-interquartile-range/problem"
      ]
    },
    {
      "cell_type": "markdown",
      "source": [],
      "metadata": {
        "id": "uP02UWuruO7D"
      }
    },
    {
      "cell_type": "code",
      "source": [
        "from statistics import mean, median, mode\n",
        "#\n",
        "# Complete the 'interQuartile' function below.\n",
        "#\n",
        "# The function accepts following parameters:\n",
        "#  1. INTEGER_ARRAY values\n",
        "#  2. INTEGER_ARRAY freqs\n",
        "#\n",
        "\n",
        "def interQuartile(values, freqs):\n",
        "    # Print your answer to 1 decimal place within this function\n",
        "    S = []\n",
        "    j = 1\n",
        "    k = 0\n",
        "    for i in range(1,sum(freqs)+1):\n",
        "        if sum(freqs[0:j])>= i:\n",
        "            S.append(values[k])\n",
        "        else:\n",
        "            j +=1\n",
        "            k +=1\n",
        "            S.append(values[k])\n",
        "    S.sort()\n",
        "    if len(S)/0 == 0:\n",
        "        lower = S[0:len(S)//2]\n",
        "        upper = S[len(S)//2:]\n",
        "    else:\n",
        "        lower = S[0:len(S)//2]\n",
        "        upper = S[-1*len(S)//2 +1:]\n",
        "    #print(S[0:len(S)//2],S[-1*len(S)//2 +1:])\n",
        "    #print(round(median(lower),1),round(median(upper),1))\n",
        "    print(abs(round(median(lower),1)- round(median(upper),1)))\n",
        "    return abs(round(median(lower),1)- round(median(upper),1))"
      ],
      "metadata": {
        "id": "oYK33JWYuOIl"
      },
      "execution_count": 38,
      "outputs": []
    },
    {
      "cell_type": "code",
      "source": [
        "values = [6, 12, 8, 10, 20, 16]\n",
        "freqs = [5, 4, 3, 2, 1, 5]\n",
        "interQuartile(values, freqs)"
      ],
      "metadata": {
        "colab": {
          "base_uri": "https://localhost:8080/"
        },
        "id": "_DiVFBvpuOLz",
        "outputId": "3a5a658f-577a-44d3-e4bf-d14e0f10991d"
      },
      "execution_count": 36,
      "outputs": [
        {
          "output_type": "stream",
          "name": "stdout",
          "text": [
            "[6, 6, 6, 6, 6, 8, 8, 8, 10, 10] [12, 12, 12, 16, 16, 16, 16, 16, 20]\n",
            "7.0 16\n",
            "9.0\n"
          ]
        },
        {
          "output_type": "execute_result",
          "data": {
            "text/plain": [
              "9.0"
            ]
          },
          "metadata": {},
          "execution_count": 36
        }
      ]
    },
    {
      "cell_type": "code",
      "source": [
        "\n",
        "values = [10, 40, 30, 50, 20]\n",
        "freqs = [1, 2, 3, 4, 5]\n",
        "interQuartile(values, freqs)"
      ],
      "metadata": {
        "colab": {
          "base_uri": "https://localhost:8080/"
        },
        "id": "NUv3FweBuOOV",
        "outputId": "25ba4ef6-cf33-464b-e662-d34fec42e6f3"
      },
      "execution_count": 37,
      "outputs": [
        {
          "output_type": "stream",
          "name": "stdout",
          "text": [
            "[10, 20, 20, 20, 20, 20, 30] [30, 40, 40, 50, 50, 50, 50]\n",
            "20 50\n",
            "30\n"
          ]
        },
        {
          "output_type": "execute_result",
          "data": {
            "text/plain": [
              "30"
            ]
          },
          "metadata": {},
          "execution_count": 37
        }
      ]
    },
    {
      "cell_type": "code",
      "source": [
        "10 40 30 50 20 10 40 30 50 20 1 2 3 4 5 6 7 8 9 10\n",
        "1 2 3 4 5 6 7 8 9 10 10 40 30 50 20 10 40 30 50 20"
      ],
      "metadata": {
        "id": "CJoiV3dJwcu-"
      },
      "execution_count": null,
      "outputs": []
    }
  ]
}