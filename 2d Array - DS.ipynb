{
  "nbformat": 4,
  "nbformat_minor": 0,
  "metadata": {
    "colab": {
      "name": "2d Array.ipynb",
      "provenance": [],
      "collapsed_sections": [],
      "authorship_tag": "ABX9TyNsv9nsGhlLoXcKohIXAGZk",
      "include_colab_link": true
    },
    "kernelspec": {
      "name": "python3",
      "display_name": "Python 3"
    },
    "language_info": {
      "name": "python"
    }
  },
  "cells": [
    {
      "cell_type": "markdown",
      "metadata": {
        "id": "view-in-github",
        "colab_type": "text"
      },
      "source": [
        "<a href=\"https://colab.research.google.com/github/dennismingming/hackerrank/blob/master/2d%20Array%20-%20DS.ipynb\" target=\"_parent\"><img src=\"https://colab.research.google.com/assets/colab-badge.svg\" alt=\"Open In Colab\"/></a>"
      ]
    },
    {
      "cell_type": "code",
      "metadata": {
        "id": "t7eFntQOWU8g"
      },
      "source": [
        "import math\n",
        "import os\n",
        "import random\n",
        "import re\n",
        "\n",
        "\n",
        "def hourglassSum(arr):\n",
        "    # Write your code here\n",
        "    mask = [[0,0,0],[0,0,0],[0,0,0]]\n",
        "    mask[0][0],mask[0][1],mask[0][2],mask[1][1],mask[2][0],mask[2][1],mask[2][2] = 1,1,1,1,1,1,1\n",
        "    \n",
        "    temp_hourglass = [[0,0,0,0],[0,0,0,0],[0,0,0,0],[0,0,0,0]]\n",
        "    temp_mask = [[0,0,0],[0,0,0],[0,0,0]]\n",
        "    for i in range(0,len(arr[0])-2):\n",
        "        for j in range(0,len(arr)-2):\n",
        "            #print(f\"{i} : {j}\")\n",
        "            for x in [0,1,2]:\n",
        "                for y in [0,1,2]:\n",
        "                    temp_mask[x][y] = mask[x][y] * arr[i+x][j+y]  \n",
        "            \n",
        "            temp_hourglass[i][j] = sum(sum(temp_mask,[])) \n",
        "    \n",
        "    \n",
        "    max_hourglass = max(sum(temp_hourglass,[]))\n",
        "\n",
        "    return max_hourglass\n",
        "    "
      ],
      "execution_count": 109,
      "outputs": []
    },
    {
      "cell_type": "code",
      "metadata": {
        "colab": {
          "base_uri": "https://localhost:8080/"
        },
        "id": "VmumP9jmR4Lw",
        "outputId": "30360ff1-83d7-495e-b90a-15417a928a48"
      },
      "source": [
        "arr1 = [[1, 1, 1, 0, 0, 0],[0, 1, 0, 0, 0, 0],[1, 1, 1, 0, 0, 0],[0, 0, 2, 4, 4, 0],[0, 0, 0, 2, 0, 0],[0, 0, 1, 2, 4, 0]]"
      ],
      "execution_count": 96,
      "outputs": [
        {
          "output_type": "execute_result",
          "data": {
            "text/plain": [
              "7"
            ]
          },
          "metadata": {},
          "execution_count": 96
        }
      ]
    },
    {
      "cell_type": "code",
      "metadata": {
        "colab": {
          "base_uri": "https://localhost:8080/"
        },
        "id": "Hj2wcsf6EzJg",
        "outputId": "18462da7-29c6-4ec2-b1c6-ed705dce4800"
      },
      "source": [
        "hourglassSum(arr1)\n"
      ],
      "execution_count": 111,
      "outputs": [
        {
          "output_type": "execute_result",
          "data": {
            "text/plain": [
              "19"
            ]
          },
          "metadata": {},
          "execution_count": 111
        }
      ]
    }
  ]
}