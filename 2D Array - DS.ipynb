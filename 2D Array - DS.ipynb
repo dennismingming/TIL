{
 "cells": [
  {
   "cell_type": "code",
   "execution_count": 30,
   "metadata": {},
   "outputs": [],
   "source": [
    "#!/bin/python3\n",
    "\n",
    "import math\n",
    "import os\n",
    "import random\n",
    "import re\n",
    "import sys\n",
    "import numpy as np\n",
    "# Complete the hourglassSum function below.\n",
    "\n",
    "\n",
    "def hourglassSum(arr):\n",
    "    copy_mat = [[0,0,0],[0,0,0],[0,0,0]]    \n",
    "    temp_memo = -100000\n",
    "    result=0\n",
    "    for i in range(len(arr)-2):\n",
    "        for j in range(len(arr[0])-2):\n",
    "            sum_temp = 0\n",
    "            for ii in range(3):\n",
    "                for jj in range(3):\n",
    "                    if ii == 1 and jj == 2 :\n",
    "                        copy_mat[ii][jj] = 0\n",
    "                    elif ii == 1 and jj == 0:\n",
    "                        copy_mat[ii][jj] = 0\n",
    "                    else:\n",
    "                        copy_mat[ii][jj] = (arr[i+ii][j+jj])\n",
    "                    sum_temp += copy_mat[ii][jj] \n",
    "            temp_memo = temp_memo if temp_memo > sum_temp else sum_temp\n",
    "            result = temp_memo\n",
    "    return result"
   ]
  },
  {
   "cell_type": "code",
   "execution_count": 31,
   "metadata": {},
   "outputs": [
    {
     "data": {
      "text/plain": [
       "-19"
      ]
     },
     "execution_count": 31,
     "metadata": {},
     "output_type": "execute_result"
    }
   ],
   "source": [
    "arr1 = [[1,1,1,0,0,0],[0,1,0,0,0,0],[1,1,1,0,0,0],[0,9,2,-4,-4,0],[0,0,0,-2,0,0],[0,0,-1,-2,-4,0]]\n",
    "arr2 = [[0, -4, -6, 0, -7, -6,],\n",
    "[-1, -2, -6, -8, -3, -1],\n",
    "[-8, -4, -2, -8, -8, -6],\n",
    "[-3, -1, -2, -5, -7, -4],\n",
    "[-3, -5, -3, -6, -6, -6],\n",
    "[-3, -6, 0, -8, -6, -7]]\n",
    "hourglassSum(arr2)"
   ]
  }
 ],
 "metadata": {
  "kernelspec": {
   "display_name": "Python 3",
   "language": "python",
   "name": "python3"
  },
  "language_info": {
   "codemirror_mode": {
    "name": "ipython",
    "version": 3
   },
   "file_extension": ".py",
   "mimetype": "text/x-python",
   "name": "python",
   "nbconvert_exporter": "python",
   "pygments_lexer": "ipython3",
   "version": "3.7.4"
  }
 },
 "nbformat": 4,
 "nbformat_minor": 2
}
