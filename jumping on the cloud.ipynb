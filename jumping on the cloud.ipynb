{
 "cells": [
  {
   "cell_type": "code",
   "execution_count": 13,
   "metadata": {},
   "outputs": [],
   "source": [
    "#!/bin/python3\n",
    "\n",
    "import math\n",
    "import os\n",
    "import random\n",
    "import re\n",
    "import sys\n",
    "\n",
    "def jumpingOnClouds(c):\n",
    "    jump = 0\n",
    "    loca = 0\n",
    "    while loca < len(c)-1:\n",
    "        if c[loca] == 1:\n",
    "            loca += 1\n",
    "\n",
    "        else:\n",
    "            if loca + 2 < len(c)-1 and c[loca + 1] == 0 and c[loca + 2] == 0:\n",
    "                jump += 1\n",
    "                loca += 2\n",
    "                #print(\"1:\",jump,loca)\n",
    "            elif loca + 2 < len(c)-1 and c[loca + 1] == 1:\n",
    "                jump += 1\n",
    "                loca += 1\n",
    "                #print(\"2:\",jump,loca)\n",
    "            elif loca+2 < len(c)-1 and c[loca + 1] == 0 and c[loca + 2] == 1:\n",
    "                jump += 1\n",
    "                loca += 1\n",
    "                #print(\"3:\",jump,loca)\n",
    "            elif loca == len(c)-3:\n",
    "                jump +=1\n",
    "                loca +=2\n",
    "                #print(\"4:\",jump,loca)\n",
    "            elif loca == len(c)-2:\n",
    "                jump +=1\n",
    "                loca +=1\n",
    "                #print(\"5:\",jump,loca)\n",
    "\n",
    "    return jump\n",
    "\n"
   ]
  },
  {
   "cell_type": "code",
   "execution_count": 10,
   "metadata": {},
   "outputs": [
    {
     "name": "stdout",
     "output_type": "stream",
     "text": [
      "3: 1 1\n",
      "2: 2 2\n",
      "3: 3 4\n",
      "4: 4 6\n"
     ]
    },
    {
     "data": {
      "text/plain": [
       "4"
      ]
     },
     "execution_count": 10,
     "metadata": {},
     "output_type": "execute_result"
    }
   ],
   "source": [
    "c=[0, 0, 1, 0, 0, 1, 0]\n",
    "jumpingOnClouds(c)"
   ]
  },
  {
   "cell_type": "code",
   "execution_count": null,
   "metadata": {},
   "outputs": [],
   "source": [
    "\n"
   ]
  }
 ],
 "metadata": {
  "kernelspec": {
   "display_name": "Python 3",
   "language": "python",
   "name": "python3"
  },
  "language_info": {
   "codemirror_mode": {
    "name": "ipython",
    "version": 3
   },
   "file_extension": ".py",
   "mimetype": "text/x-python",
   "name": "python",
   "nbconvert_exporter": "python",
   "pygments_lexer": "ipython3",
   "version": "3.7.4"
  }
 },
 "nbformat": 4,
 "nbformat_minor": 2
}
