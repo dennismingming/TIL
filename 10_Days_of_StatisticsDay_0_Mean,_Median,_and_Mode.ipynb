{
  "nbformat": 4,
  "nbformat_minor": 0,
  "metadata": {
    "colab": {
      "provenance": [],
      "authorship_tag": "ABX9TyPcl0i1r6evLuMnwNykGFlO",
      "include_colab_link": true
    },
    "kernelspec": {
      "name": "python3",
      "display_name": "Python 3"
    },
    "language_info": {
      "name": "python"
    }
  },
  "cells": [
    {
      "cell_type": "markdown",
      "metadata": {
        "id": "view-in-github",
        "colab_type": "text"
      },
      "source": [
        "<a href=\"https://colab.research.google.com/github/dennismingming/hackerrank/blob/master/10_Days_of_StatisticsDay_0_Mean%2C_Median%2C_and_Mode.ipynb\" target=\"_parent\"><img src=\"https://colab.research.google.com/assets/colab-badge.svg\" alt=\"Open In Colab\"/></a>"
      ]
    },
    {
      "cell_type": "code",
      "execution_count": null,
      "metadata": {
        "colab": {
          "base_uri": "https://localhost:8080/"
        },
        "id": "pG0c26ULOow2",
        "outputId": "1089f43d-0297-448c-a44b-76fc4a90d438"
      },
      "outputs": [
        {
          "output_type": "stream",
          "name": "stdout",
          "text": [
            "10\n",
            "64630 11735 14216 99233 14470 4978 73429 38120 51135 67060\n",
            "43900.6\n",
            "44627.5\n",
            "64630\n"
          ]
        }
      ],
      "source": [
        "# Enter your code here. Read input from STDIN. Print output to STDOUT\n",
        "\n",
        "from statistics import mean, median, mode\n",
        "\n",
        "# Input\n",
        "n = int(input())\n",
        "data = list(map(int, input().split()))\n",
        "#n = 10\n",
        "#data = [64630, 11735, 14216, 99233, 14470, 4978, 73429, 38120, 51135, 67060]\n",
        "\n",
        "# Calculate mean, median, and mode\n",
        "mean_value = mean(data)\n",
        "median_value = median(data)\n",
        "def mode_least(data):\n",
        "    freq = {}\n",
        "\n",
        "    for v in data:\n",
        "        freq.setdefault(v,0)\n",
        "        freq[v] +=1\n",
        "\n",
        "    mode_value, mode_freq = max(freq.items(), key=lambda x: x[1])\n",
        "    result = min([k for k, v in freq.items() if v == mode_freq])\n",
        "\n",
        "    return result\n",
        "\n",
        "mode_value = mode_least(data)\n",
        "\n",
        "# Print the results with the required format\n",
        "print(round(mean_value, 1))\n",
        "print(round(median_value, 1))\n",
        "print(int(mode_value))"
      ]
    },
    {
      "cell_type": "code",
      "source": [
        "def mode_least(data):\n",
        "    freq = {}\n",
        "\n",
        "    for v in data:\n",
        "        freq.setdefault(v,0)\n",
        "        freq[v] +=1\n",
        "\n",
        "    mode_value, mode_freq = max(freq.items(), key=lambda x: x[1])\n",
        "    result = min([k for k, v in freq.items() if v == mode_freq])\n",
        "\n",
        "    return result\n",
        "data = [64630, 11735, 14216, 99233, 14470, 4978, 73429, 38120, 51135, 67060]\n",
        "print(mode_least(data))"
      ],
      "metadata": {
        "colab": {
          "base_uri": "https://localhost:8080/"
        },
        "id": "6QATdu_4OpdB",
        "outputId": "fefd1556-83f1-4c98-83c1-bb87fdeb9f28"
      },
      "execution_count": null,
      "outputs": [
        {
          "output_type": "stream",
          "name": "stdout",
          "text": [
            "4978\n"
          ]
        }
      ]
    },
    {
      "cell_type": "code",
      "source": [],
      "metadata": {
        "id": "hEfWF4UeVBvi"
      },
      "execution_count": null,
      "outputs": []
    }
  ]
}