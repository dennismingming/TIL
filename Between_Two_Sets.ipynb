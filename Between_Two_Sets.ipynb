{
  "nbformat": 4,
  "nbformat_minor": 0,
  "metadata": {
    "colab": {
      "name": "Between Two Sets.ipynb",
      "provenance": [],
      "collapsed_sections": [],
      "authorship_tag": "ABX9TyPdWyGFF/2cRosVwGo0oh0l",
      "include_colab_link": true
    },
    "kernelspec": {
      "name": "python3",
      "display_name": "Python 3"
    },
    "language_info": {
      "name": "python"
    }
  },
  "cells": [
    {
      "cell_type": "markdown",
      "metadata": {
        "id": "view-in-github",
        "colab_type": "text"
      },
      "source": [
        "<a href=\"https://colab.research.google.com/github/dennismingming/hackerrank/blob/master/Between_Two_Sets.ipynb\" target=\"_parent\"><img src=\"https://colab.research.google.com/assets/colab-badge.svg\" alt=\"Open In Colab\"/></a>"
      ]
    },
    {
      "cell_type": "code",
      "metadata": {
        "id": "y7tFmoFJ3Lwr"
      },
      "source": [
        "#!/bin/python3\n",
        "\n",
        "import math\n",
        "import os\n",
        "import random\n",
        "import re\n",
        "import sys\n",
        "\n",
        "#\n",
        "# Complete the 'getTotalX' function below.\n",
        "#\n",
        "# The function is expected to return an INTEGER.\n",
        "# The function accepts following parameters:\n",
        "#  1. INTEGER_ARRAY a\n",
        "#  2. INTEGER_ARRAY b\n",
        "#\n",
        "\n",
        "def getTotalX(a, b):\n",
        "    # Write your code here\n",
        "    if a * b\n",
        "\n",
        "if __name__ == '__main__':\n",
        "    fptr = open(os.environ['OUTPUT_PATH'], 'w')\n",
        "\n",
        "    first_multiple_input = input().rstrip().split()\n",
        "\n",
        "    n = int(first_multiple_input[0])\n",
        "\n",
        "    m = int(first_multiple_input[1])\n",
        "\n",
        "    arr = list(map(int, input().rstrip().split()))\n",
        "\n",
        "    brr = list(map(int, input().rstrip().split()))\n",
        "\n",
        "    total = getTotalX(arr, brr)\n",
        "\n",
        "    fptr.write(str(total) + '\\n')\n",
        "\n",
        "    fptr.close()\n"
      ],
      "execution_count": null,
      "outputs": []
    },
    {
      "cell_type": "code",
      "metadata": {
        "colab": {
          "base_uri": "https://localhost:8080/"
        },
        "id": "eEeaBe7AWtzl",
        "outputId": "a2f6f6db-45b2-41dd-93d1-30b6f613c88c"
      },
      "source": [
        "temp_list"
      ],
      "execution_count": 42,
      "outputs": [
        {
          "output_type": "execute_result",
          "data": {
            "text/plain": [
              "[1, 2, 14, 15, 16]"
            ]
          },
          "metadata": {},
          "execution_count": 42
        }
      ]
    },
    {
      "cell_type": "code",
      "metadata": {
        "colab": {
          "base_uri": "https://localhost:8080/"
        },
        "id": "f3yP_DkdDUiv",
        "outputId": "426e528a-db80-4d53-abc8-a1e4d9a51c9e"
      },
      "source": [
        "#    2 4\n",
        "#16 32 96\n",
        "\n",
        "a = [3,4]\n",
        "b = [24,48]\n",
        "\n",
        "#def getTotalX(a, b):\n",
        "if 0 == 0:\n",
        "    temp_list = list(range(1,min(b)+1))\n",
        "    del_list = []\n",
        "    temp_gcd = []\n",
        "\n",
        "    for i in range(1,len(temp_list)+1): # 1~16\n",
        "        for j in range(len(b)):\n",
        "            #print(f'{i}, {j}') #check\n",
        "            if b[j] % temp_list[i-1] == 0:\n",
        "                temp_gcd.append(i)\n",
        "            else:\n",
        "                del_list.append(i)\n",
        "    \n",
        "    del_list = list(set(del_list))\n",
        "    \n",
        "    print(f'del_list : {del_list}')\n",
        "    #size_del_list = len(del_list)\n",
        "\n",
        "    for i in range(len(del_list)):\n",
        "         #print(i) #check\n",
        "         temp_list.remove(del_list[i])\n",
        "\n",
        "    print(f'temp_list : {temp_list}')\n",
        "\n",
        "    # 이제 공약수 찾았으니 이중에 공배수를 찾자\n",
        "    # del_list = []\n",
        "    # for i in range(len(a)):\n",
        "    #     for j in range(1,len(temp_list)+1):\n",
        "    #         if temp_list[j-1] % a[i] == 0:\n",
        "    # #           0 == 0\n",
        "            \n",
        "    #         else:\n",
        "    #             del_list.append(j)\n",
        "\n",
        "    for i in range(len(a)): \n",
        "        for j in range(len(temp_list)):\n",
        "            #print(f'{i}, {j}') #check\n",
        "            if temp_list[j] % a[i] == 0:\n",
        "                0 == 0\n",
        "            else:\n",
        "                del_list.append(j)\n",
        "\n",
        "\n",
        "    del_list= list(set(del_list))\n",
        "    print(f'del_list : {del_list}')\n",
        "    #size_del_list = len(del_list)\n",
        "\n",
        "    for i in range(len(del_list)):\n",
        "        #print(i)\n",
        "        \n",
        "        if del_list[i] in temp_list:\n",
        "          temp_list.remove(del_list[i])\n",
        "\n",
        "\n",
        "    print(f'temp_list : {temp_list}')\n",
        "    print(len(temp_list))\n",
        "    # #return len(temp_list)\n",
        "\n",
        "#getTotalX(a,b)\n"
      ],
      "execution_count": 62,
      "outputs": [
        {
          "output_type": "stream",
          "name": "stdout",
          "text": [
            "del_list : [5, 7, 9, 10, 11, 13, 14, 15, 16, 17, 18, 19, 20, 21, 22, 23]\n",
            "temp_list : [1, 2, 3, 4, 6, 8, 12, 24]\n",
            "del_list : [1, 2, 3, 4, 5, 6, 7, 9, 10, 11, 13, 14, 15, 16, 17, 18, 19, 20, 21, 22, 23]\n",
            "temp_list : [8, 12, 24]\n",
            "3\n"
          ]
        }
      ]
    },
    {
      "cell_type": "code",
      "metadata": {
        "colab": {
          "base_uri": "https://localhost:8080/"
        },
        "id": "EBfaLq4XW0g5",
        "outputId": "283e13d0-3304-45d3-fbf4-02bc5ab38419"
      },
      "source": [
        "del_list"
      ],
      "execution_count": 46,
      "outputs": [
        {
          "output_type": "execute_result",
          "data": {
            "text/plain": [
              "[3, 5, 6, 7, 9, 10, 11, 12, 13, 14, 15]"
            ]
          },
          "metadata": {},
          "execution_count": 46
        }
      ]
    },
    {
      "cell_type": "code",
      "metadata": {
        "id": "KPuWo4i6DVdz",
        "colab": {
          "base_uri": "https://localhost:8080/"
        },
        "outputId": "0c20dfa5-fcaf-4343-f7f4-eb1f4272bbee"
      },
      "source": [
        "temp_list"
      ],
      "execution_count": 49,
      "outputs": [
        {
          "output_type": "execute_result",
          "data": {
            "text/plain": [
              "[1, 2, 4, 8, 16]"
            ]
          },
          "metadata": {},
          "execution_count": 49
        }
      ]
    },
    {
      "cell_type": "code",
      "metadata": {
        "colab": {
          "base_uri": "https://localhost:8080/"
        },
        "id": "1aZGMvQPLp-Y",
        "outputId": "530e0cf4-9483-4bcb-b7f6-7d505712b103"
      },
      "source": [
        "len(temp_list)"
      ],
      "execution_count": 8,
      "outputs": [
        {
          "output_type": "execute_result",
          "data": {
            "text/plain": [
              "16"
            ]
          },
          "metadata": {},
          "execution_count": 8
        }
      ]
    },
    {
      "cell_type": "code",
      "metadata": {
        "colab": {
          "base_uri": "https://localhost:8080/"
        },
        "id": "J27na8-hL_cc",
        "outputId": "4cd5c764-e6e3-41cf-e889-415cfe4d25d8"
      },
      "source": [
        "len(b)"
      ],
      "execution_count": 9,
      "outputs": [
        {
          "output_type": "execute_result",
          "data": {
            "text/plain": [
              "3"
            ]
          },
          "metadata": {},
          "execution_count": 9
        }
      ]
    },
    {
      "cell_type": "code",
      "metadata": {
        "id": "NLdhmfKqMFsy"
      },
      "source": [
        ""
      ],
      "execution_count": null,
      "outputs": []
    }
  ]
}