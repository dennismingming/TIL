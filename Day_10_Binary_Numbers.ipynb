{
  "nbformat": 4,
  "nbformat_minor": 0,
  "metadata": {
    "colab": {
      "name": "Day 10: Binary Numbers.ipynb",
      "provenance": [],
      "collapsed_sections": [],
      "authorship_tag": "ABX9TyO4hb5+lrNh5VPSjZxrcJJ9",
      "include_colab_link": true
    },
    "kernelspec": {
      "name": "python3",
      "display_name": "Python 3"
    },
    "language_info": {
      "name": "python"
    }
  },
  "cells": [
    {
      "cell_type": "markdown",
      "metadata": {
        "id": "view-in-github",
        "colab_type": "text"
      },
      "source": [
        "<a href=\"https://colab.research.google.com/github/dennismingming/hackerrank/blob/master/Day_10_Binary_Numbers.ipynb\" target=\"_parent\"><img src=\"https://colab.research.google.com/assets/colab-badge.svg\" alt=\"Open In Colab\"/></a>"
      ]
    },
    {
      "cell_type": "code",
      "metadata": {
        "colab": {
          "base_uri": "https://localhost:8080/"
        },
        "id": "NUgBYhluPRD9",
        "outputId": "797ed5ed-e66f-46f5-bd02-efff744cf813"
      },
      "source": [
        "#!/bin/python3\n",
        "\n",
        "import math\n",
        "import os\n",
        "import random\n",
        "import re\n",
        "import sys\n",
        "\n",
        "\n",
        "\n",
        "if __name__ == '__main__':\n",
        "    n = int(input().strip())\n",
        "    bin_n = n\n",
        "    max_count = 0\n",
        "    count = 0\n",
        "    \n",
        "    while bin_n >= 1:\n",
        "        if bin_n % 2 != 0:\n",
        "            count += 1\n",
        "            \n",
        "        else:\n",
        "            count = 0\n",
        "        \n",
        "        max_count = max(max_count,count)\n",
        "        bin_n = bin_n // 2\n",
        "        \n",
        "    print(max_count)\n"
      ],
      "execution_count": 15,
      "outputs": [
        {
          "output_type": "stream",
          "name": "stdout",
          "text": [
            "6\n",
            "6N\n",
            "0\n",
            "3N\n",
            "`\n",
            "1\n",
            "1N\n",
            "`\n",
            "2\n",
            "2!\n"
          ]
        }
      ]
    },
    {
      "cell_type": "code",
      "metadata": {
        "id": "P1g1mU_HPXvh"
      },
      "source": [
        "while 3//2 > 1:\n",
        "  print(\"1\")"
      ],
      "execution_count": 13,
      "outputs": []
    },
    {
      "cell_type": "code",
      "metadata": {
        "colab": {
          "base_uri": "https://localhost:8080/"
        },
        "id": "8863ynJr2OFV",
        "outputId": "9c1ef3ae-6278-441b-d286-ef9875087d37"
      },
      "source": [
        "3//2"
      ],
      "execution_count": 14,
      "outputs": [
        {
          "output_type": "execute_result",
          "data": {
            "text/plain": [
              "1"
            ]
          },
          "metadata": {},
          "execution_count": 14
        }
      ]
    },
    {
      "cell_type": "code",
      "metadata": {
        "id": "dQIdxzKD2TS8"
      },
      "source": [
        ""
      ],
      "execution_count": null,
      "outputs": []
    }
  ]
}